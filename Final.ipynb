{
 "cells": [
  {
   "cell_type": "markdown",
   "metadata": {},
   "source": [
    "## Importing important libraries"
   ]
  },
  {
   "cell_type": "code",
   "execution_count": 27,
   "metadata": {},
   "outputs": [],
   "source": [
    "# importing all the libraries needed \n",
    "import numpy as np\n",
    "from sklearn.externals import joblib\n",
    "import pandas as pd\n",
    "import scipy.stats as stats\n",
    "import matplotlib.pyplot as plt\n",
    "import sklearn\n",
    "import seaborn as sns\n",
    "import matplotlib.dates as mdates\n",
    "%matplotlib inline\n",
    "import datetime\n",
    "import statsmodels.tsa.api as smt\n",
    "sns.set_style(\"whitegrid\")\n",
    "from sklearn import datasets, linear_model\n",
    "from sklearn.model_selection import train_test_split\n",
    "from sklearn.preprocessing import StandardScaler, LabelEncoder\n",
    "import warnings\n",
    "warnings.filterwarnings('ignore')\n",
    "from sklearn.metrics import mean_squared_error, mean_absolute_error\n",
    "\n",
    "#For date time functions\n",
    "from datetime import datetime\n",
    "from datetime import timedelta\n",
    "import math\n",
    "import datetime\n",
    "# Importing the most popular regression libraries.\n",
    "from sklearn.neighbors import KNeighborsRegressor\n",
    "from sklearn.linear_model import LinearRegression, LogisticRegression, ridge_regression, Lasso, SGDRegressor, Ridge\n",
    "from sklearn.svm import SVR\n",
    "from sklearn.tree import DecisionTreeRegressor\n",
    "from sklearn.ensemble import RandomForestRegressor, ExtraTreesRegressor,StackingRegressor\n",
    "from xgboost import XGBRegressor\n",
    "from sklearn.model_selection import GridSearchCV, RandomizedSearchCV"
   ]
  },
  {
   "cell_type": "markdown",
   "metadata": {},
   "source": [
    "## Function -1\n",
    "#### For generating prediction value on raw data"
   ]
  },
  {
   "cell_type": "code",
   "execution_count": 34,
   "metadata": {},
   "outputs": [],
   "source": [
    "def generating_prediction(final_data):    \n",
    "    final_data.loc[final_data.MarkDown1.isnull() ,'MarkDown1']= 0\n",
    "    final_data.loc[final_data.MarkDown2.isnull() ,'MarkDown2']= 0\n",
    "    final_data.loc[final_data.MarkDown3.isnull() ,'MarkDown3']= 0\n",
    "    final_data.loc[final_data.MarkDown4.isnull() ,'MarkDown4']= 0\n",
    "    final_data.loc[final_data.MarkDown5.isnull() ,'MarkDown5']= 0\n",
    "      \n",
    "    final_data['Date'] = pd.to_datetime(final_data['Date'])\n",
    "    final_data['Year'] = final_data['Date'].dt.year\n",
    "    final_data['Month']= final_data['Date'].dt.month\n",
    "    final_data['Week'] = final_data['Date'].dt.week\n",
    "    final_data['Day']  = final_data['Date'].dt.day\n",
    "\n",
    "    dates =[]\n",
    "    for ptr in holidays.US(years = 2010).items():\n",
    "        dates.append(ptr[0])\n",
    "    for ptr in holidays.US(years = 2011).items():\n",
    "        dates.append(ptr[0])\n",
    "    for ptr in holidays.US(years = 2012).items():\n",
    "        dates.append(ptr[0])\n",
    "    for ptr in holidays.US(years = 2013).items():\n",
    "        dates.append(ptr[0])\n",
    "        \n",
    "    holiday_count=[] \n",
    "    for index, row in final_data.iterrows():\n",
    "        dat = final_data['Date'][index]\n",
    "        dt=[]\n",
    "        for i in range(0,5):\n",
    "            dt.append(dat - datetime.timedelta(days = i))\n",
    "        for i in range(1,3):\n",
    "            dt.append(dat + datetime.timedelta(days = i))\n",
    "        count = 0\n",
    "        for date in dates:\n",
    "            if date in dt:\n",
    "                count +=1\n",
    "        holiday_count.append(count)\n",
    "    final_data['Holidays'] = np.array(holiday_count)\n",
    "\n",
    "    final_data.loc[(final_data.IsHoliday==True) ,'IsHoliday']= 1\n",
    "    final_data.loc[(final_data.IsHoliday==False) ,'IsHoliday']= 0\n",
    "\n",
    "    final_data.loc[(final_data.Type=='A') ,'Type']= 1\n",
    "    final_data.loc[(final_data.Type=='B') ,'Type']= 2\n",
    "    final_data.loc[(final_data.Type=='C') ,'Type']= 3\n",
    "    final_data=final_data.reset_index(drop=True)\n",
    "    final_data=final_data[['Store','Dept','IsHoliday','Size','Week','Type','Year','Holidays','Day']]\n",
    "    \n",
    "    Regressor = joblib.load('model.pkl')\n",
    "    pred = Regressor.predict(final_data)\n",
    "    \n",
    "    return pred"
   ]
  },
  {
   "cell_type": "code",
   "execution_count": 37,
   "metadata": {},
   "outputs": [
    {
     "name": "stdout",
     "output_type": "stream",
     "text": [
      "Prediction of eekly sales for given raw data is :  [816.39535]\n"
     ]
    }
   ],
   "source": [
    "train_data=pd.read_csv('train.csv',parse_dates=True)\n",
    "features_data=pd.read_csv('features.csv',parse_dates=True)\n",
    "stores_data=pd.read_csv('stores.csv')\n",
    "stores = stores_data.merge(features_data, on ='Store' , how = 'left')\n",
    "final_data_train = train_data.merge(stores, on = ['Store', 'Date', 'IsHoliday'], how = 'left')\n",
    "y = final_data_train['Weekly_Sales']\n",
    "X = final_data_train.drop(['Weekly_Sales'], axis=1) \n",
    "X_train, X_test, y_train, y_test = train_test_split(X, y, test_size=0.3)\n",
    "\n",
    "import random\n",
    "data_for_prediction = X_test.sample()\n",
    "print('Prediction of eekly sales for given raw data is : ',generating_prediction(data_for_prediction))\n"
   ]
  },
  {
   "cell_type": "markdown",
   "metadata": {},
   "source": [
    "## Function 2\n",
    "#### For getting WMAE value"
   ]
  },
  {
   "cell_type": "code",
   "execution_count": 38,
   "metadata": {},
   "outputs": [],
   "source": [
    "def generating_Wmae_score(final_data):    \n",
    "    final_data.loc[final_data.MarkDown1.isnull() ,'MarkDown1']= 0\n",
    "    final_data.loc[final_data.MarkDown2.isnull() ,'MarkDown2']= 0\n",
    "    final_data.loc[final_data.MarkDown3.isnull() ,'MarkDown3']= 0\n",
    "    final_data.loc[final_data.MarkDown4.isnull() ,'MarkDown4']= 0\n",
    "    final_data.loc[final_data.MarkDown5.isnull() ,'MarkDown5']= 0\n",
    "      \n",
    "    final_data['Date'] = pd.to_datetime(final_data['Date'])\n",
    "    final_data['Year'] = final_data['Date'].dt.year\n",
    "    final_data['Month']= final_data['Date'].dt.month\n",
    "    final_data['Week'] = final_data['Date'].dt.week\n",
    "    final_data['Day']  = final_data['Date'].dt.day\n",
    "\n",
    "    dates =[]\n",
    "    for ptr in holidays.US(years = 2010).items():\n",
    "        dates.append(ptr[0])\n",
    "    for ptr in holidays.US(years = 2011).items():\n",
    "        dates.append(ptr[0])\n",
    "    for ptr in holidays.US(years = 2012).items():\n",
    "        dates.append(ptr[0])\n",
    "    for ptr in holidays.US(years = 2013).items():\n",
    "        dates.append(ptr[0])\n",
    "    holiday_count=[] \n",
    "    for index, row in final_data.iterrows():\n",
    "        dat = final_data['Date'][index]\n",
    "        dt=[]\n",
    "        for i in range(0,5):\n",
    "            dt.append(dat - datetime.timedelta(days = i))\n",
    "        for i in range(1,3):\n",
    "            dt.append(dat + datetime.timedelta(days = i))\n",
    "        count = 0\n",
    "        for date in dates:\n",
    "            if date in dt:\n",
    "                count +=1\n",
    "        holiday_count.append(count)\n",
    "    final_data['Holidays'] = np.array(holiday_count)\n",
    "\n",
    "    final_data.loc[(final_data.IsHoliday==True) ,'IsHoliday']= 1\n",
    "    final_data.loc[(final_data.IsHoliday==False) ,'IsHoliday']= 0\n",
    "\n",
    "    final_data.loc[(final_data.Type=='A') ,'Type']= 1\n",
    "    final_data.loc[(final_data.Type=='B') ,'Type']= 2\n",
    "    final_data.loc[(final_data.Type=='C') ,'Type']= 3\n",
    "    final_data=final_data.reset_index(drop=True)\n",
    "    y_true=final_data['Weekly_Sales']\n",
    "    final_data=final_data[['Store','Dept','IsHoliday','Size','Week','Type','Year','Holidays','Day']]\n",
    "    \n",
    "    Regressor = joblib.load('model.pkl')\n",
    "    y_pred = Regressor.predict(final_data)\n",
    "  \n",
    "    weights = final_data.IsHoliday.apply(lambda x: 5 if x else 1)\n",
    "    return np.round(np.sum(weights*abs(y_true-y_pred))/(np.sum(weights)), 2)"
   ]
  },
  {
   "cell_type": "code",
   "execution_count": 39,
   "metadata": {},
   "outputs": [
    {
     "name": "stdout",
     "output_type": "stream",
     "text": [
      "Wmae score for the given raw data is : 5630.31\n"
     ]
    }
   ],
   "source": [
    "train_data=pd.read_csv('train.csv',parse_dates=True)\n",
    "features_data=pd.read_csv('features.csv',parse_dates=True)\n",
    "stores_data=pd.read_csv('stores.csv')\n",
    "stores = stores_data.merge(features_data, on ='Store' , how = 'left')\n",
    "final_data_train = train_data.merge(stores, on = ['Store', 'Date', 'IsHoliday'], how = 'left') \n",
    "Train,Test = train_test_split(final_data_train,test_size=0.3)\n",
    "\n",
    "import random\n",
    "data_for_prediction = Test.sample()\n",
    "print('Wmae score for the given raw data is :',generating_Wmae_score(data_for_prediction))"
   ]
  },
  {
   "cell_type": "code",
   "execution_count": null,
   "metadata": {},
   "outputs": [],
   "source": []
  }
 ],
 "metadata": {
  "kernelspec": {
   "display_name": "Python 3",
   "language": "python",
   "name": "python3"
  },
  "language_info": {
   "codemirror_mode": {
    "name": "ipython",
    "version": 3
   },
   "file_extension": ".py",
   "mimetype": "text/x-python",
   "name": "python",
   "nbconvert_exporter": "python",
   "pygments_lexer": "ipython3",
   "version": "3.7.6"
  }
 },
 "nbformat": 4,
 "nbformat_minor": 4
}
