{
  "nbformat": 4,
  "nbformat_minor": 0,
  "metadata": {
    "colab": {
      "name": "1.regression_with_RF_feature_importance.ipynb",
      "provenance": [],
      "collapsed_sections": []
    },
    "kernelspec": {
      "display_name": "Python 3",
      "language": "python",
      "name": "python3"
    },
    "language_info": {
      "codemirror_mode": {
        "name": "ipython",
        "version": 3
      },
      "file_extension": ".py",
      "mimetype": "text/x-python",
      "name": "python",
      "nbconvert_exporter": "python",
      "pygments_lexer": "ipython3",
      "version": "3.7.6"
    },
    "widgets": {
      "application/vnd.jupyter.widget-state+json": {
        "648352c2a45348d4985b29c47cf01a59": {
          "model_module": "@jupyter-widgets/controls",
          "model_name": "HBoxModel",
          "model_module_version": "1.5.0",
          "state": {
            "_view_name": "HBoxView",
            "_dom_classes": [],
            "_model_name": "HBoxModel",
            "_view_module": "@jupyter-widgets/controls",
            "_model_module_version": "1.5.0",
            "_view_count": null,
            "_view_module_version": "1.5.0",
            "box_style": "",
            "layout": "IPY_MODEL_fee2682a64134274b32a4da543f3713f",
            "_model_module": "@jupyter-widgets/controls",
            "children": [
              "IPY_MODEL_be51171dbf1f40c98b4a0c9739f91b28",
              "IPY_MODEL_2ae10b1d98e14d0ead7884ad4ed947dc",
              "IPY_MODEL_ef866a4091c6434cb9a8aac63f383867"
            ]
          }
        },
        "fee2682a64134274b32a4da543f3713f": {
          "model_module": "@jupyter-widgets/base",
          "model_name": "LayoutModel",
          "model_module_version": "1.2.0",
          "state": {
            "_view_name": "LayoutView",
            "grid_template_rows": null,
            "right": null,
            "justify_content": null,
            "_view_module": "@jupyter-widgets/base",
            "overflow": null,
            "_model_module_version": "1.2.0",
            "_view_count": null,
            "flex_flow": null,
            "width": null,
            "min_width": null,
            "border": null,
            "align_items": null,
            "bottom": null,
            "_model_module": "@jupyter-widgets/base",
            "top": null,
            "grid_column": null,
            "overflow_y": null,
            "overflow_x": null,
            "grid_auto_flow": null,
            "grid_area": null,
            "grid_template_columns": null,
            "flex": null,
            "_model_name": "LayoutModel",
            "justify_items": null,
            "grid_row": null,
            "max_height": null,
            "align_content": null,
            "visibility": null,
            "align_self": null,
            "height": null,
            "min_height": null,
            "padding": null,
            "grid_auto_rows": null,
            "grid_gap": null,
            "max_width": null,
            "order": null,
            "_view_module_version": "1.2.0",
            "grid_template_areas": null,
            "object_position": null,
            "object_fit": null,
            "grid_auto_columns": null,
            "margin": null,
            "display": null,
            "left": null
          }
        },
        "be51171dbf1f40c98b4a0c9739f91b28": {
          "model_module": "@jupyter-widgets/controls",
          "model_name": "HTMLModel",
          "model_module_version": "1.5.0",
          "state": {
            "_view_name": "HTMLView",
            "style": "IPY_MODEL_2d91809e61cc49ae808e12bbdd136316",
            "_dom_classes": [],
            "description": "",
            "_model_name": "HTMLModel",
            "placeholder": "​",
            "_view_module": "@jupyter-widgets/controls",
            "_model_module_version": "1.5.0",
            "value": "100%",
            "_view_count": null,
            "_view_module_version": "1.5.0",
            "description_tooltip": null,
            "_model_module": "@jupyter-widgets/controls",
            "layout": "IPY_MODEL_3c086b99406643d29196aa5dbc288bb9"
          }
        },
        "2ae10b1d98e14d0ead7884ad4ed947dc": {
          "model_module": "@jupyter-widgets/controls",
          "model_name": "FloatProgressModel",
          "model_module_version": "1.5.0",
          "state": {
            "_view_name": "ProgressView",
            "style": "IPY_MODEL_c94008aba11049acb3153460ba0ed769",
            "_dom_classes": [],
            "description": "",
            "_model_name": "FloatProgressModel",
            "bar_style": "success",
            "max": 45,
            "_view_module": "@jupyter-widgets/controls",
            "_model_module_version": "1.5.0",
            "value": 45,
            "_view_count": null,
            "_view_module_version": "1.5.0",
            "orientation": "horizontal",
            "min": 0,
            "description_tooltip": null,
            "_model_module": "@jupyter-widgets/controls",
            "layout": "IPY_MODEL_0cb630250fec455b95b64f707080c2ef"
          }
        },
        "ef866a4091c6434cb9a8aac63f383867": {
          "model_module": "@jupyter-widgets/controls",
          "model_name": "HTMLModel",
          "model_module_version": "1.5.0",
          "state": {
            "_view_name": "HTMLView",
            "style": "IPY_MODEL_8cb1f82eb5b047cfa3222b64b95366b6",
            "_dom_classes": [],
            "description": "",
            "_model_name": "HTMLModel",
            "placeholder": "​",
            "_view_module": "@jupyter-widgets/controls",
            "_model_module_version": "1.5.0",
            "value": " 45/45 [02:07&lt;00:00,  2.77s/it]",
            "_view_count": null,
            "_view_module_version": "1.5.0",
            "description_tooltip": null,
            "_model_module": "@jupyter-widgets/controls",
            "layout": "IPY_MODEL_9c963a62c3824df7a772f1e3150633c0"
          }
        },
        "2d91809e61cc49ae808e12bbdd136316": {
          "model_module": "@jupyter-widgets/controls",
          "model_name": "DescriptionStyleModel",
          "model_module_version": "1.5.0",
          "state": {
            "_view_name": "StyleView",
            "_model_name": "DescriptionStyleModel",
            "description_width": "",
            "_view_module": "@jupyter-widgets/base",
            "_model_module_version": "1.5.0",
            "_view_count": null,
            "_view_module_version": "1.2.0",
            "_model_module": "@jupyter-widgets/controls"
          }
        },
        "3c086b99406643d29196aa5dbc288bb9": {
          "model_module": "@jupyter-widgets/base",
          "model_name": "LayoutModel",
          "model_module_version": "1.2.0",
          "state": {
            "_view_name": "LayoutView",
            "grid_template_rows": null,
            "right": null,
            "justify_content": null,
            "_view_module": "@jupyter-widgets/base",
            "overflow": null,
            "_model_module_version": "1.2.0",
            "_view_count": null,
            "flex_flow": null,
            "width": null,
            "min_width": null,
            "border": null,
            "align_items": null,
            "bottom": null,
            "_model_module": "@jupyter-widgets/base",
            "top": null,
            "grid_column": null,
            "overflow_y": null,
            "overflow_x": null,
            "grid_auto_flow": null,
            "grid_area": null,
            "grid_template_columns": null,
            "flex": null,
            "_model_name": "LayoutModel",
            "justify_items": null,
            "grid_row": null,
            "max_height": null,
            "align_content": null,
            "visibility": null,
            "align_self": null,
            "height": null,
            "min_height": null,
            "padding": null,
            "grid_auto_rows": null,
            "grid_gap": null,
            "max_width": null,
            "order": null,
            "_view_module_version": "1.2.0",
            "grid_template_areas": null,
            "object_position": null,
            "object_fit": null,
            "grid_auto_columns": null,
            "margin": null,
            "display": null,
            "left": null
          }
        },
        "c94008aba11049acb3153460ba0ed769": {
          "model_module": "@jupyter-widgets/controls",
          "model_name": "ProgressStyleModel",
          "model_module_version": "1.5.0",
          "state": {
            "_view_name": "StyleView",
            "_model_name": "ProgressStyleModel",
            "description_width": "",
            "_view_module": "@jupyter-widgets/base",
            "_model_module_version": "1.5.0",
            "_view_count": null,
            "_view_module_version": "1.2.0",
            "bar_color": null,
            "_model_module": "@jupyter-widgets/controls"
          }
        },
        "0cb630250fec455b95b64f707080c2ef": {
          "model_module": "@jupyter-widgets/base",
          "model_name": "LayoutModel",
          "model_module_version": "1.2.0",
          "state": {
            "_view_name": "LayoutView",
            "grid_template_rows": null,
            "right": null,
            "justify_content": null,
            "_view_module": "@jupyter-widgets/base",
            "overflow": null,
            "_model_module_version": "1.2.0",
            "_view_count": null,
            "flex_flow": null,
            "width": null,
            "min_width": null,
            "border": null,
            "align_items": null,
            "bottom": null,
            "_model_module": "@jupyter-widgets/base",
            "top": null,
            "grid_column": null,
            "overflow_y": null,
            "overflow_x": null,
            "grid_auto_flow": null,
            "grid_area": null,
            "grid_template_columns": null,
            "flex": null,
            "_model_name": "LayoutModel",
            "justify_items": null,
            "grid_row": null,
            "max_height": null,
            "align_content": null,
            "visibility": null,
            "align_self": null,
            "height": null,
            "min_height": null,
            "padding": null,
            "grid_auto_rows": null,
            "grid_gap": null,
            "max_width": null,
            "order": null,
            "_view_module_version": "1.2.0",
            "grid_template_areas": null,
            "object_position": null,
            "object_fit": null,
            "grid_auto_columns": null,
            "margin": null,
            "display": null,
            "left": null
          }
        },
        "8cb1f82eb5b047cfa3222b64b95366b6": {
          "model_module": "@jupyter-widgets/controls",
          "model_name": "DescriptionStyleModel",
          "model_module_version": "1.5.0",
          "state": {
            "_view_name": "StyleView",
            "_model_name": "DescriptionStyleModel",
            "description_width": "",
            "_view_module": "@jupyter-widgets/base",
            "_model_module_version": "1.5.0",
            "_view_count": null,
            "_view_module_version": "1.2.0",
            "_model_module": "@jupyter-widgets/controls"
          }
        },
        "9c963a62c3824df7a772f1e3150633c0": {
          "model_module": "@jupyter-widgets/base",
          "model_name": "LayoutModel",
          "model_module_version": "1.2.0",
          "state": {
            "_view_name": "LayoutView",
            "grid_template_rows": null,
            "right": null,
            "justify_content": null,
            "_view_module": "@jupyter-widgets/base",
            "overflow": null,
            "_model_module_version": "1.2.0",
            "_view_count": null,
            "flex_flow": null,
            "width": null,
            "min_width": null,
            "border": null,
            "align_items": null,
            "bottom": null,
            "_model_module": "@jupyter-widgets/base",
            "top": null,
            "grid_column": null,
            "overflow_y": null,
            "overflow_x": null,
            "grid_auto_flow": null,
            "grid_area": null,
            "grid_template_columns": null,
            "flex": null,
            "_model_name": "LayoutModel",
            "justify_items": null,
            "grid_row": null,
            "max_height": null,
            "align_content": null,
            "visibility": null,
            "align_self": null,
            "height": null,
            "min_height": null,
            "padding": null,
            "grid_auto_rows": null,
            "grid_gap": null,
            "max_width": null,
            "order": null,
            "_view_module_version": "1.2.0",
            "grid_template_areas": null,
            "object_position": null,
            "object_fit": null,
            "grid_auto_columns": null,
            "margin": null,
            "display": null,
            "left": null
          }
        },
        "0cb39fbcabc141aabd2da6320edd88ed": {
          "model_module": "@jupyter-widgets/controls",
          "model_name": "HBoxModel",
          "model_module_version": "1.5.0",
          "state": {
            "_view_name": "HBoxView",
            "_dom_classes": [],
            "_model_name": "HBoxModel",
            "_view_module": "@jupyter-widgets/controls",
            "_model_module_version": "1.5.0",
            "_view_count": null,
            "_view_module_version": "1.5.0",
            "box_style": "",
            "layout": "IPY_MODEL_8183b828b7c64153ba40f1cd1e4d9f66",
            "_model_module": "@jupyter-widgets/controls",
            "children": [
              "IPY_MODEL_ec9caec09820467bac7dd94108109b7c",
              "IPY_MODEL_2c500d25515d40c1806a31146ae19e18",
              "IPY_MODEL_21587dd1d70e4c21ba9a6e57f9baed61"
            ]
          }
        },
        "8183b828b7c64153ba40f1cd1e4d9f66": {
          "model_module": "@jupyter-widgets/base",
          "model_name": "LayoutModel",
          "model_module_version": "1.2.0",
          "state": {
            "_view_name": "LayoutView",
            "grid_template_rows": null,
            "right": null,
            "justify_content": null,
            "_view_module": "@jupyter-widgets/base",
            "overflow": null,
            "_model_module_version": "1.2.0",
            "_view_count": null,
            "flex_flow": null,
            "width": null,
            "min_width": null,
            "border": null,
            "align_items": null,
            "bottom": null,
            "_model_module": "@jupyter-widgets/base",
            "top": null,
            "grid_column": null,
            "overflow_y": null,
            "overflow_x": null,
            "grid_auto_flow": null,
            "grid_area": null,
            "grid_template_columns": null,
            "flex": null,
            "_model_name": "LayoutModel",
            "justify_items": null,
            "grid_row": null,
            "max_height": null,
            "align_content": null,
            "visibility": null,
            "align_self": null,
            "height": null,
            "min_height": null,
            "padding": null,
            "grid_auto_rows": null,
            "grid_gap": null,
            "max_width": null,
            "order": null,
            "_view_module_version": "1.2.0",
            "grid_template_areas": null,
            "object_position": null,
            "object_fit": null,
            "grid_auto_columns": null,
            "margin": null,
            "display": null,
            "left": null
          }
        },
        "ec9caec09820467bac7dd94108109b7c": {
          "model_module": "@jupyter-widgets/controls",
          "model_name": "HTMLModel",
          "model_module_version": "1.5.0",
          "state": {
            "_view_name": "HTMLView",
            "style": "IPY_MODEL_4d92b0342089496bbf5288a3e700c6b4",
            "_dom_classes": [],
            "description": "",
            "_model_name": "HTMLModel",
            "placeholder": "​",
            "_view_module": "@jupyter-widgets/controls",
            "_model_module_version": "1.5.0",
            "value": "100%",
            "_view_count": null,
            "_view_module_version": "1.5.0",
            "description_tooltip": null,
            "_model_module": "@jupyter-widgets/controls",
            "layout": "IPY_MODEL_03623552c5a742da91dbf5a1cb5b0f43"
          }
        },
        "2c500d25515d40c1806a31146ae19e18": {
          "model_module": "@jupyter-widgets/controls",
          "model_name": "FloatProgressModel",
          "model_module_version": "1.5.0",
          "state": {
            "_view_name": "ProgressView",
            "style": "IPY_MODEL_21849266d8a142629c890ec654c023d2",
            "_dom_classes": [],
            "description": "",
            "_model_name": "FloatProgressModel",
            "bar_style": "success",
            "max": 45,
            "_view_module": "@jupyter-widgets/controls",
            "_model_module_version": "1.5.0",
            "value": 45,
            "_view_count": null,
            "_view_module_version": "1.5.0",
            "orientation": "horizontal",
            "min": 0,
            "description_tooltip": null,
            "_model_module": "@jupyter-widgets/controls",
            "layout": "IPY_MODEL_6995b8764adb42258b5cf59501a531ca"
          }
        },
        "21587dd1d70e4c21ba9a6e57f9baed61": {
          "model_module": "@jupyter-widgets/controls",
          "model_name": "HTMLModel",
          "model_module_version": "1.5.0",
          "state": {
            "_view_name": "HTMLView",
            "style": "IPY_MODEL_5b619fb618824ad0835f27fd4c958264",
            "_dom_classes": [],
            "description": "",
            "_model_name": "HTMLModel",
            "placeholder": "​",
            "_view_module": "@jupyter-widgets/controls",
            "_model_module_version": "1.5.0",
            "value": " 45/45 [01:33&lt;00:00,  2.08s/it]",
            "_view_count": null,
            "_view_module_version": "1.5.0",
            "description_tooltip": null,
            "_model_module": "@jupyter-widgets/controls",
            "layout": "IPY_MODEL_fa33a02d24e7480a95129be2a87f5f6b"
          }
        },
        "4d92b0342089496bbf5288a3e700c6b4": {
          "model_module": "@jupyter-widgets/controls",
          "model_name": "DescriptionStyleModel",
          "model_module_version": "1.5.0",
          "state": {
            "_view_name": "StyleView",
            "_model_name": "DescriptionStyleModel",
            "description_width": "",
            "_view_module": "@jupyter-widgets/base",
            "_model_module_version": "1.5.0",
            "_view_count": null,
            "_view_module_version": "1.2.0",
            "_model_module": "@jupyter-widgets/controls"
          }
        },
        "03623552c5a742da91dbf5a1cb5b0f43": {
          "model_module": "@jupyter-widgets/base",
          "model_name": "LayoutModel",
          "model_module_version": "1.2.0",
          "state": {
            "_view_name": "LayoutView",
            "grid_template_rows": null,
            "right": null,
            "justify_content": null,
            "_view_module": "@jupyter-widgets/base",
            "overflow": null,
            "_model_module_version": "1.2.0",
            "_view_count": null,
            "flex_flow": null,
            "width": null,
            "min_width": null,
            "border": null,
            "align_items": null,
            "bottom": null,
            "_model_module": "@jupyter-widgets/base",
            "top": null,
            "grid_column": null,
            "overflow_y": null,
            "overflow_x": null,
            "grid_auto_flow": null,
            "grid_area": null,
            "grid_template_columns": null,
            "flex": null,
            "_model_name": "LayoutModel",
            "justify_items": null,
            "grid_row": null,
            "max_height": null,
            "align_content": null,
            "visibility": null,
            "align_self": null,
            "height": null,
            "min_height": null,
            "padding": null,
            "grid_auto_rows": null,
            "grid_gap": null,
            "max_width": null,
            "order": null,
            "_view_module_version": "1.2.0",
            "grid_template_areas": null,
            "object_position": null,
            "object_fit": null,
            "grid_auto_columns": null,
            "margin": null,
            "display": null,
            "left": null
          }
        },
        "21849266d8a142629c890ec654c023d2": {
          "model_module": "@jupyter-widgets/controls",
          "model_name": "ProgressStyleModel",
          "model_module_version": "1.5.0",
          "state": {
            "_view_name": "StyleView",
            "_model_name": "ProgressStyleModel",
            "description_width": "",
            "_view_module": "@jupyter-widgets/base",
            "_model_module_version": "1.5.0",
            "_view_count": null,
            "_view_module_version": "1.2.0",
            "bar_color": null,
            "_model_module": "@jupyter-widgets/controls"
          }
        },
        "6995b8764adb42258b5cf59501a531ca": {
          "model_module": "@jupyter-widgets/base",
          "model_name": "LayoutModel",
          "model_module_version": "1.2.0",
          "state": {
            "_view_name": "LayoutView",
            "grid_template_rows": null,
            "right": null,
            "justify_content": null,
            "_view_module": "@jupyter-widgets/base",
            "overflow": null,
            "_model_module_version": "1.2.0",
            "_view_count": null,
            "flex_flow": null,
            "width": null,
            "min_width": null,
            "border": null,
            "align_items": null,
            "bottom": null,
            "_model_module": "@jupyter-widgets/base",
            "top": null,
            "grid_column": null,
            "overflow_y": null,
            "overflow_x": null,
            "grid_auto_flow": null,
            "grid_area": null,
            "grid_template_columns": null,
            "flex": null,
            "_model_name": "LayoutModel",
            "justify_items": null,
            "grid_row": null,
            "max_height": null,
            "align_content": null,
            "visibility": null,
            "align_self": null,
            "height": null,
            "min_height": null,
            "padding": null,
            "grid_auto_rows": null,
            "grid_gap": null,
            "max_width": null,
            "order": null,
            "_view_module_version": "1.2.0",
            "grid_template_areas": null,
            "object_position": null,
            "object_fit": null,
            "grid_auto_columns": null,
            "margin": null,
            "display": null,
            "left": null
          }
        },
        "5b619fb618824ad0835f27fd4c958264": {
          "model_module": "@jupyter-widgets/controls",
          "model_name": "DescriptionStyleModel",
          "model_module_version": "1.5.0",
          "state": {
            "_view_name": "StyleView",
            "_model_name": "DescriptionStyleModel",
            "description_width": "",
            "_view_module": "@jupyter-widgets/base",
            "_model_module_version": "1.5.0",
            "_view_count": null,
            "_view_module_version": "1.2.0",
            "_model_module": "@jupyter-widgets/controls"
          }
        },
        "fa33a02d24e7480a95129be2a87f5f6b": {
          "model_module": "@jupyter-widgets/base",
          "model_name": "LayoutModel",
          "model_module_version": "1.2.0",
          "state": {
            "_view_name": "LayoutView",
            "grid_template_rows": null,
            "right": null,
            "justify_content": null,
            "_view_module": "@jupyter-widgets/base",
            "overflow": null,
            "_model_module_version": "1.2.0",
            "_view_count": null,
            "flex_flow": null,
            "width": null,
            "min_width": null,
            "border": null,
            "align_items": null,
            "bottom": null,
            "_model_module": "@jupyter-widgets/base",
            "top": null,
            "grid_column": null,
            "overflow_y": null,
            "overflow_x": null,
            "grid_auto_flow": null,
            "grid_area": null,
            "grid_template_columns": null,
            "flex": null,
            "_model_name": "LayoutModel",
            "justify_items": null,
            "grid_row": null,
            "max_height": null,
            "align_content": null,
            "visibility": null,
            "align_self": null,
            "height": null,
            "min_height": null,
            "padding": null,
            "grid_auto_rows": null,
            "grid_gap": null,
            "max_width": null,
            "order": null,
            "_view_module_version": "1.2.0",
            "grid_template_areas": null,
            "object_position": null,
            "object_fit": null,
            "grid_auto_columns": null,
            "margin": null,
            "display": null,
            "left": null
          }
        }
      }
    }
  },
  "cells": [
    {
      "cell_type": "code",
      "metadata": {
        "id": "3ydbzv0YU75b"
      },
      "source": [
        "# importing all the libraries needed \n",
        "import numpy as np\n",
        "import pandas as pd\n",
        "import scipy.stats as stats\n",
        "import matplotlib.pyplot as plt\n",
        "import sklearn\n",
        "import seaborn as sns\n",
        "sns.set_style(\"whitegrid\")\n",
        "from sklearn import datasets, linear_model\n",
        "from sklearn.model_selection import train_test_split\n",
        "from sklearn.preprocessing import StandardScaler, LabelEncoder\n",
        "import warnings\n",
        "warnings.filterwarnings('ignore')\n",
        "from sklearn.metrics import mean_squared_error, mean_absolute_error\n",
        "\n",
        "#For date time functions\n",
        "from datetime import datetime\n",
        "from datetime import timedelta\n",
        "import math\n",
        "\n",
        "# Importing the most popular regression libraries.\n",
        "from sklearn.neighbors import KNeighborsRegressor\n",
        "from sklearn.linear_model import LinearRegression, LogisticRegression, ridge_regression, Lasso, SGDRegressor, Ridge\n",
        "from sklearn.svm import SVR\n",
        "from sklearn.tree import DecisionTreeRegressor\n",
        "from sklearn.ensemble import RandomForestRegressor, ExtraTreesRegressor,StackingRegressor\n",
        "from xgboost import XGBRegressor\n",
        "from sklearn.model_selection import GridSearchCV, RandomizedSearchCV"
      ],
      "execution_count": 1,
      "outputs": []
    },
    {
      "cell_type": "code",
      "metadata": {
        "id": "dJibX3SPeYvM"
      },
      "source": [
        "import pandas as pd\n",
        "import numpy as np\n",
        "\n",
        "import seaborn as sns\n",
        "import matplotlib.pyplot as plt\n",
        "import matplotlib.dates as mdates\n",
        "%matplotlib inline\n",
        "\n",
        "import datetime\n",
        "\n",
        "import statsmodels.tsa.api as smt"
      ],
      "execution_count": 2,
      "outputs": []
    },
    {
      "cell_type": "code",
      "metadata": {
        "colab": {
          "base_uri": "https://localhost:8080/"
        },
        "id": "TjqzOq-mrkme",
        "outputId": "5afbc3b1-ba60-4641-eadb-0156bc918fc7"
      },
      "source": [
        "pip install lightgbm"
      ],
      "execution_count": 3,
      "outputs": [
        {
          "output_type": "stream",
          "text": [
            "Requirement already satisfied: lightgbm in /usr/local/lib/python3.7/dist-packages (2.2.3)\n",
            "Requirement already satisfied: scikit-learn in /usr/local/lib/python3.7/dist-packages (from lightgbm) (0.22.2.post1)\n",
            "Requirement already satisfied: scipy in /usr/local/lib/python3.7/dist-packages (from lightgbm) (1.4.1)\n",
            "Requirement already satisfied: numpy in /usr/local/lib/python3.7/dist-packages (from lightgbm) (1.19.5)\n",
            "Requirement already satisfied: joblib>=0.11 in /usr/local/lib/python3.7/dist-packages (from scikit-learn->lightgbm) (1.0.1)\n"
          ],
          "name": "stdout"
        }
      ]
    },
    {
      "cell_type": "code",
      "metadata": {
        "id": "rk88wGlvU75g"
      },
      "source": [
        "train_data=pd.read_csv('train.csv',parse_dates=True)\n",
        "features_data=pd.read_csv('features.csv',parse_dates=True)\n",
        "stores_data=pd.read_csv('stores.csv')\n",
        "test_data=pd.read_csv('test.csv')"
      ],
      "execution_count": 4,
      "outputs": []
    },
    {
      "cell_type": "code",
      "metadata": {
        "colab": {
          "base_uri": "https://localhost:8080/",
          "height": 1000,
          "referenced_widgets": [
            "648352c2a45348d4985b29c47cf01a59",
            "fee2682a64134274b32a4da543f3713f",
            "be51171dbf1f40c98b4a0c9739f91b28",
            "2ae10b1d98e14d0ead7884ad4ed947dc",
            "ef866a4091c6434cb9a8aac63f383867",
            "2d91809e61cc49ae808e12bbdd136316",
            "3c086b99406643d29196aa5dbc288bb9",
            "c94008aba11049acb3153460ba0ed769",
            "0cb630250fec455b95b64f707080c2ef",
            "8cb1f82eb5b047cfa3222b64b95366b6",
            "9c963a62c3824df7a772f1e3150633c0"
          ]
        },
        "id": "fz36o4CXU75h",
        "outputId": "c5ae7024-34d6-4a3b-a585-d380e55c8163"
      },
      "source": [
        "from fbprophet import Prophet\n",
        "import tqdm.notebook as tq\n",
        "df = pd.DataFrame()\n",
        "for i in tq.tqdm(range(1,46)):\n",
        "    model=Prophet()\n",
        "    filled=features_data[((features_data['Store']==i) & (features_data['Date']<'2013-05-03'))][['Date','CPI']]\n",
        "    tserie = filled.rename(columns = {'Date': 'ds', 'CPI': 'y'}, inplace = False)\n",
        "    tserie =tserie.sort_values(by=['ds'])\n",
        "    tserie['ds'] = pd.to_datetime(tserie['ds'])\n",
        "    model.fit(tserie)\n",
        "    future_dates=model.make_future_dataframe(periods=13,freq = 'W',include_history =True)\n",
        "    future_dates['ds'] = future_dates['ds'].apply(lambda x: x + timedelta(days=5))\n",
        "    prediction=model.predict(future_dates)\n",
        "    df=df.append(prediction)\n",
        "\n",
        "df.reset_index(drop=True)\n",
        "features_data['CPI1']=np.nan\n",
        "for i,j in enumerate(df['yhat']):\n",
        "    features_data['CPI1'].iloc[i]=j\n",
        "\n",
        "features_data=features_data.drop(['CPI'],axis=1)\n",
        "features_data = features_data.rename(columns = {'CPI1': 'CPI'})"
      ],
      "execution_count": 5,
      "outputs": [
        {
          "output_type": "display_data",
          "data": {
            "application/vnd.jupyter.widget-view+json": {
              "model_id": "648352c2a45348d4985b29c47cf01a59",
              "version_minor": 0,
              "version_major": 2
            },
            "text/plain": [
              "  0%|          | 0/45 [00:00<?, ?it/s]"
            ]
          },
          "metadata": {}
        },
        {
          "output_type": "stream",
          "text": [
            "INFO:numexpr.utils:NumExpr defaulting to 2 threads.\n",
            "INFO:fbprophet:Disabling weekly seasonality. Run prophet with weekly_seasonality=True to override this.\n",
            "INFO:fbprophet:Disabling daily seasonality. Run prophet with daily_seasonality=True to override this.\n",
            "INFO:fbprophet:Disabling weekly seasonality. Run prophet with weekly_seasonality=True to override this.\n",
            "INFO:fbprophet:Disabling daily seasonality. Run prophet with daily_seasonality=True to override this.\n",
            "INFO:fbprophet:Disabling weekly seasonality. Run prophet with weekly_seasonality=True to override this.\n",
            "INFO:fbprophet:Disabling daily seasonality. Run prophet with daily_seasonality=True to override this.\n",
            "INFO:fbprophet:Disabling weekly seasonality. Run prophet with weekly_seasonality=True to override this.\n",
            "INFO:fbprophet:Disabling daily seasonality. Run prophet with daily_seasonality=True to override this.\n",
            "INFO:fbprophet:Disabling weekly seasonality. Run prophet with weekly_seasonality=True to override this.\n",
            "INFO:fbprophet:Disabling daily seasonality. Run prophet with daily_seasonality=True to override this.\n",
            "INFO:fbprophet:Disabling weekly seasonality. Run prophet with weekly_seasonality=True to override this.\n",
            "INFO:fbprophet:Disabling daily seasonality. Run prophet with daily_seasonality=True to override this.\n",
            "INFO:fbprophet:Disabling weekly seasonality. Run prophet with weekly_seasonality=True to override this.\n",
            "INFO:fbprophet:Disabling daily seasonality. Run prophet with daily_seasonality=True to override this.\n",
            "INFO:fbprophet:Disabling weekly seasonality. Run prophet with weekly_seasonality=True to override this.\n",
            "INFO:fbprophet:Disabling daily seasonality. Run prophet with daily_seasonality=True to override this.\n",
            "INFO:fbprophet:Disabling weekly seasonality. Run prophet with weekly_seasonality=True to override this.\n",
            "INFO:fbprophet:Disabling daily seasonality. Run prophet with daily_seasonality=True to override this.\n",
            "INFO:fbprophet:Disabling weekly seasonality. Run prophet with weekly_seasonality=True to override this.\n",
            "INFO:fbprophet:Disabling daily seasonality. Run prophet with daily_seasonality=True to override this.\n",
            "INFO:fbprophet:Disabling weekly seasonality. Run prophet with weekly_seasonality=True to override this.\n",
            "INFO:fbprophet:Disabling daily seasonality. Run prophet with daily_seasonality=True to override this.\n",
            "INFO:fbprophet:Disabling weekly seasonality. Run prophet with weekly_seasonality=True to override this.\n",
            "INFO:fbprophet:Disabling daily seasonality. Run prophet with daily_seasonality=True to override this.\n",
            "INFO:fbprophet:Disabling weekly seasonality. Run prophet with weekly_seasonality=True to override this.\n",
            "INFO:fbprophet:Disabling daily seasonality. Run prophet with daily_seasonality=True to override this.\n",
            "INFO:fbprophet:Disabling weekly seasonality. Run prophet with weekly_seasonality=True to override this.\n",
            "INFO:fbprophet:Disabling daily seasonality. Run prophet with daily_seasonality=True to override this.\n",
            "INFO:fbprophet:Disabling weekly seasonality. Run prophet with weekly_seasonality=True to override this.\n",
            "INFO:fbprophet:Disabling daily seasonality. Run prophet with daily_seasonality=True to override this.\n",
            "INFO:fbprophet:Disabling weekly seasonality. Run prophet with weekly_seasonality=True to override this.\n",
            "INFO:fbprophet:Disabling daily seasonality. Run prophet with daily_seasonality=True to override this.\n",
            "INFO:fbprophet:Disabling weekly seasonality. Run prophet with weekly_seasonality=True to override this.\n",
            "INFO:fbprophet:Disabling daily seasonality. Run prophet with daily_seasonality=True to override this.\n",
            "INFO:fbprophet:Disabling weekly seasonality. Run prophet with weekly_seasonality=True to override this.\n",
            "INFO:fbprophet:Disabling daily seasonality. Run prophet with daily_seasonality=True to override this.\n",
            "INFO:fbprophet:Disabling weekly seasonality. Run prophet with weekly_seasonality=True to override this.\n",
            "INFO:fbprophet:Disabling daily seasonality. Run prophet with daily_seasonality=True to override this.\n",
            "INFO:fbprophet:Disabling weekly seasonality. Run prophet with weekly_seasonality=True to override this.\n",
            "INFO:fbprophet:Disabling daily seasonality. Run prophet with daily_seasonality=True to override this.\n",
            "INFO:fbprophet:Disabling weekly seasonality. Run prophet with weekly_seasonality=True to override this.\n",
            "INFO:fbprophet:Disabling daily seasonality. Run prophet with daily_seasonality=True to override this.\n",
            "INFO:fbprophet:Disabling weekly seasonality. Run prophet with weekly_seasonality=True to override this.\n",
            "INFO:fbprophet:Disabling daily seasonality. Run prophet with daily_seasonality=True to override this.\n",
            "INFO:fbprophet:Disabling weekly seasonality. Run prophet with weekly_seasonality=True to override this.\n",
            "INFO:fbprophet:Disabling daily seasonality. Run prophet with daily_seasonality=True to override this.\n",
            "INFO:fbprophet:Disabling weekly seasonality. Run prophet with weekly_seasonality=True to override this.\n",
            "INFO:fbprophet:Disabling daily seasonality. Run prophet with daily_seasonality=True to override this.\n",
            "INFO:fbprophet:Disabling weekly seasonality. Run prophet with weekly_seasonality=True to override this.\n",
            "INFO:fbprophet:Disabling daily seasonality. Run prophet with daily_seasonality=True to override this.\n",
            "INFO:fbprophet:Disabling weekly seasonality. Run prophet with weekly_seasonality=True to override this.\n",
            "INFO:fbprophet:Disabling daily seasonality. Run prophet with daily_seasonality=True to override this.\n",
            "INFO:fbprophet:Disabling weekly seasonality. Run prophet with weekly_seasonality=True to override this.\n",
            "INFO:fbprophet:Disabling daily seasonality. Run prophet with daily_seasonality=True to override this.\n",
            "INFO:fbprophet:Disabling weekly seasonality. Run prophet with weekly_seasonality=True to override this.\n",
            "INFO:fbprophet:Disabling daily seasonality. Run prophet with daily_seasonality=True to override this.\n",
            "INFO:fbprophet:Disabling weekly seasonality. Run prophet with weekly_seasonality=True to override this.\n",
            "INFO:fbprophet:Disabling daily seasonality. Run prophet with daily_seasonality=True to override this.\n",
            "INFO:fbprophet:Disabling weekly seasonality. Run prophet with weekly_seasonality=True to override this.\n",
            "INFO:fbprophet:Disabling daily seasonality. Run prophet with daily_seasonality=True to override this.\n",
            "INFO:fbprophet:Disabling weekly seasonality. Run prophet with weekly_seasonality=True to override this.\n",
            "INFO:fbprophet:Disabling daily seasonality. Run prophet with daily_seasonality=True to override this.\n",
            "INFO:fbprophet:Disabling weekly seasonality. Run prophet with weekly_seasonality=True to override this.\n",
            "INFO:fbprophet:Disabling daily seasonality. Run prophet with daily_seasonality=True to override this.\n",
            "INFO:fbprophet:Disabling weekly seasonality. Run prophet with weekly_seasonality=True to override this.\n",
            "INFO:fbprophet:Disabling daily seasonality. Run prophet with daily_seasonality=True to override this.\n",
            "INFO:fbprophet:Disabling weekly seasonality. Run prophet with weekly_seasonality=True to override this.\n",
            "INFO:fbprophet:Disabling daily seasonality. Run prophet with daily_seasonality=True to override this.\n",
            "INFO:fbprophet:Disabling weekly seasonality. Run prophet with weekly_seasonality=True to override this.\n",
            "INFO:fbprophet:Disabling daily seasonality. Run prophet with daily_seasonality=True to override this.\n",
            "INFO:fbprophet:Disabling weekly seasonality. Run prophet with weekly_seasonality=True to override this.\n",
            "INFO:fbprophet:Disabling daily seasonality. Run prophet with daily_seasonality=True to override this.\n",
            "INFO:fbprophet:Disabling weekly seasonality. Run prophet with weekly_seasonality=True to override this.\n",
            "INFO:fbprophet:Disabling daily seasonality. Run prophet with daily_seasonality=True to override this.\n",
            "INFO:fbprophet:Disabling weekly seasonality. Run prophet with weekly_seasonality=True to override this.\n",
            "INFO:fbprophet:Disabling daily seasonality. Run prophet with daily_seasonality=True to override this.\n",
            "INFO:fbprophet:Disabling weekly seasonality. Run prophet with weekly_seasonality=True to override this.\n",
            "INFO:fbprophet:Disabling daily seasonality. Run prophet with daily_seasonality=True to override this.\n",
            "INFO:fbprophet:Disabling weekly seasonality. Run prophet with weekly_seasonality=True to override this.\n",
            "INFO:fbprophet:Disabling daily seasonality. Run prophet with daily_seasonality=True to override this.\n",
            "INFO:fbprophet:Disabling weekly seasonality. Run prophet with weekly_seasonality=True to override this.\n",
            "INFO:fbprophet:Disabling daily seasonality. Run prophet with daily_seasonality=True to override this.\n",
            "INFO:fbprophet:Disabling weekly seasonality. Run prophet with weekly_seasonality=True to override this.\n",
            "INFO:fbprophet:Disabling daily seasonality. Run prophet with daily_seasonality=True to override this.\n",
            "INFO:fbprophet:Disabling weekly seasonality. Run prophet with weekly_seasonality=True to override this.\n",
            "INFO:fbprophet:Disabling daily seasonality. Run prophet with daily_seasonality=True to override this.\n",
            "INFO:fbprophet:Disabling weekly seasonality. Run prophet with weekly_seasonality=True to override this.\n",
            "INFO:fbprophet:Disabling daily seasonality. Run prophet with daily_seasonality=True to override this.\n",
            "INFO:fbprophet:Disabling weekly seasonality. Run prophet with weekly_seasonality=True to override this.\n",
            "INFO:fbprophet:Disabling daily seasonality. Run prophet with daily_seasonality=True to override this.\n"
          ],
          "name": "stderr"
        }
      ]
    },
    {
      "cell_type": "code",
      "metadata": {
        "colab": {
          "base_uri": "https://localhost:8080/",
          "height": 1000,
          "referenced_widgets": [
            "0cb39fbcabc141aabd2da6320edd88ed",
            "8183b828b7c64153ba40f1cd1e4d9f66",
            "ec9caec09820467bac7dd94108109b7c",
            "2c500d25515d40c1806a31146ae19e18",
            "21587dd1d70e4c21ba9a6e57f9baed61",
            "4d92b0342089496bbf5288a3e700c6b4",
            "03623552c5a742da91dbf5a1cb5b0f43",
            "21849266d8a142629c890ec654c023d2",
            "6995b8764adb42258b5cf59501a531ca",
            "5b619fb618824ad0835f27fd4c958264",
            "fa33a02d24e7480a95129be2a87f5f6b"
          ]
        },
        "id": "2w0l9pW8U75i",
        "outputId": "3b7d9c38-546f-4352-c4b2-00996c5f77be"
      },
      "source": [
        "from fbprophet import Prophet\n",
        "import tqdm.notebook as tq\n",
        "df = pd.DataFrame()\n",
        "for i in tq.tqdm(range(1,46)):\n",
        "    model=Prophet()\n",
        "    filled=features_data[((features_data['Store']==i) & (features_data['Date']<'2013-05-03'))][['Date','Unemployment']]\n",
        "    tserie = filled.rename(columns = {'Date': 'ds', 'Unemployment': 'y'}, inplace = False)\n",
        "    tserie =tserie.sort_values(by=['ds'])\n",
        "    tserie['ds'] = pd.to_datetime(tserie['ds'])\n",
        "    model.fit(tserie)\n",
        "    future_dates=model.make_future_dataframe(periods=13,freq = 'W',include_history =True)\n",
        "    future_dates['ds'] = future_dates['ds'].apply(lambda x: x + timedelta(days=5))\n",
        "    prediction=model.predict(future_dates)\n",
        "    df=df.append(prediction)\n",
        "\n",
        "df.reset_index(drop=True)\n",
        "features_data['Unemployment1']=np.nan\n",
        "for i,j in enumerate(df['yhat']):\n",
        "    features_data['Unemployment1'].iloc[i]=j\n",
        "\n",
        "features_data=features_data.drop(['Unemployment'],axis=1)\n",
        "features_data = features_data.rename(columns = {'Unemployment1': 'Unemployment'})"
      ],
      "execution_count": 6,
      "outputs": [
        {
          "output_type": "display_data",
          "data": {
            "application/vnd.jupyter.widget-view+json": {
              "model_id": "0cb39fbcabc141aabd2da6320edd88ed",
              "version_minor": 0,
              "version_major": 2
            },
            "text/plain": [
              "  0%|          | 0/45 [00:00<?, ?it/s]"
            ]
          },
          "metadata": {}
        },
        {
          "output_type": "stream",
          "text": [
            "INFO:fbprophet:Disabling weekly seasonality. Run prophet with weekly_seasonality=True to override this.\n",
            "INFO:fbprophet:Disabling daily seasonality. Run prophet with daily_seasonality=True to override this.\n",
            "INFO:fbprophet:Disabling weekly seasonality. Run prophet with weekly_seasonality=True to override this.\n",
            "INFO:fbprophet:Disabling daily seasonality. Run prophet with daily_seasonality=True to override this.\n",
            "INFO:fbprophet:Disabling weekly seasonality. Run prophet with weekly_seasonality=True to override this.\n",
            "INFO:fbprophet:Disabling daily seasonality. Run prophet with daily_seasonality=True to override this.\n",
            "INFO:fbprophet:Disabling weekly seasonality. Run prophet with weekly_seasonality=True to override this.\n",
            "INFO:fbprophet:Disabling daily seasonality. Run prophet with daily_seasonality=True to override this.\n",
            "INFO:fbprophet:Disabling weekly seasonality. Run prophet with weekly_seasonality=True to override this.\n",
            "INFO:fbprophet:Disabling daily seasonality. Run prophet with daily_seasonality=True to override this.\n",
            "INFO:fbprophet:Disabling weekly seasonality. Run prophet with weekly_seasonality=True to override this.\n",
            "INFO:fbprophet:Disabling daily seasonality. Run prophet with daily_seasonality=True to override this.\n",
            "INFO:fbprophet:Disabling weekly seasonality. Run prophet with weekly_seasonality=True to override this.\n",
            "INFO:fbprophet:Disabling daily seasonality. Run prophet with daily_seasonality=True to override this.\n",
            "INFO:fbprophet:Disabling weekly seasonality. Run prophet with weekly_seasonality=True to override this.\n",
            "INFO:fbprophet:Disabling daily seasonality. Run prophet with daily_seasonality=True to override this.\n",
            "INFO:fbprophet:Disabling weekly seasonality. Run prophet with weekly_seasonality=True to override this.\n",
            "INFO:fbprophet:Disabling daily seasonality. Run prophet with daily_seasonality=True to override this.\n",
            "INFO:fbprophet:Disabling weekly seasonality. Run prophet with weekly_seasonality=True to override this.\n",
            "INFO:fbprophet:Disabling daily seasonality. Run prophet with daily_seasonality=True to override this.\n",
            "INFO:fbprophet:Disabling weekly seasonality. Run prophet with weekly_seasonality=True to override this.\n",
            "INFO:fbprophet:Disabling daily seasonality. Run prophet with daily_seasonality=True to override this.\n",
            "INFO:fbprophet:Disabling weekly seasonality. Run prophet with weekly_seasonality=True to override this.\n",
            "INFO:fbprophet:Disabling daily seasonality. Run prophet with daily_seasonality=True to override this.\n",
            "INFO:fbprophet:Disabling weekly seasonality. Run prophet with weekly_seasonality=True to override this.\n",
            "INFO:fbprophet:Disabling daily seasonality. Run prophet with daily_seasonality=True to override this.\n",
            "INFO:fbprophet:Disabling weekly seasonality. Run prophet with weekly_seasonality=True to override this.\n",
            "INFO:fbprophet:Disabling daily seasonality. Run prophet with daily_seasonality=True to override this.\n",
            "INFO:fbprophet:Disabling weekly seasonality. Run prophet with weekly_seasonality=True to override this.\n",
            "INFO:fbprophet:Disabling daily seasonality. Run prophet with daily_seasonality=True to override this.\n",
            "INFO:fbprophet:Disabling weekly seasonality. Run prophet with weekly_seasonality=True to override this.\n",
            "INFO:fbprophet:Disabling daily seasonality. Run prophet with daily_seasonality=True to override this.\n",
            "INFO:fbprophet:Disabling weekly seasonality. Run prophet with weekly_seasonality=True to override this.\n",
            "INFO:fbprophet:Disabling daily seasonality. Run prophet with daily_seasonality=True to override this.\n",
            "INFO:fbprophet:Disabling weekly seasonality. Run prophet with weekly_seasonality=True to override this.\n",
            "INFO:fbprophet:Disabling daily seasonality. Run prophet with daily_seasonality=True to override this.\n",
            "INFO:fbprophet:Disabling weekly seasonality. Run prophet with weekly_seasonality=True to override this.\n",
            "INFO:fbprophet:Disabling daily seasonality. Run prophet with daily_seasonality=True to override this.\n",
            "INFO:fbprophet:Disabling weekly seasonality. Run prophet with weekly_seasonality=True to override this.\n",
            "INFO:fbprophet:Disabling daily seasonality. Run prophet with daily_seasonality=True to override this.\n",
            "INFO:fbprophet:Disabling weekly seasonality. Run prophet with weekly_seasonality=True to override this.\n",
            "INFO:fbprophet:Disabling daily seasonality. Run prophet with daily_seasonality=True to override this.\n",
            "INFO:fbprophet:Disabling weekly seasonality. Run prophet with weekly_seasonality=True to override this.\n",
            "INFO:fbprophet:Disabling daily seasonality. Run prophet with daily_seasonality=True to override this.\n",
            "INFO:fbprophet:Disabling weekly seasonality. Run prophet with weekly_seasonality=True to override this.\n",
            "INFO:fbprophet:Disabling daily seasonality. Run prophet with daily_seasonality=True to override this.\n",
            "INFO:fbprophet:Disabling weekly seasonality. Run prophet with weekly_seasonality=True to override this.\n",
            "INFO:fbprophet:Disabling daily seasonality. Run prophet with daily_seasonality=True to override this.\n",
            "INFO:fbprophet:Disabling weekly seasonality. Run prophet with weekly_seasonality=True to override this.\n",
            "INFO:fbprophet:Disabling daily seasonality. Run prophet with daily_seasonality=True to override this.\n",
            "INFO:fbprophet:Disabling weekly seasonality. Run prophet with weekly_seasonality=True to override this.\n",
            "INFO:fbprophet:Disabling daily seasonality. Run prophet with daily_seasonality=True to override this.\n",
            "INFO:fbprophet:Disabling weekly seasonality. Run prophet with weekly_seasonality=True to override this.\n",
            "INFO:fbprophet:Disabling daily seasonality. Run prophet with daily_seasonality=True to override this.\n",
            "INFO:fbprophet:Disabling weekly seasonality. Run prophet with weekly_seasonality=True to override this.\n",
            "INFO:fbprophet:Disabling daily seasonality. Run prophet with daily_seasonality=True to override this.\n",
            "INFO:fbprophet:Disabling weekly seasonality. Run prophet with weekly_seasonality=True to override this.\n",
            "INFO:fbprophet:Disabling daily seasonality. Run prophet with daily_seasonality=True to override this.\n",
            "INFO:fbprophet:Disabling weekly seasonality. Run prophet with weekly_seasonality=True to override this.\n",
            "INFO:fbprophet:Disabling daily seasonality. Run prophet with daily_seasonality=True to override this.\n",
            "INFO:fbprophet:Disabling weekly seasonality. Run prophet with weekly_seasonality=True to override this.\n",
            "INFO:fbprophet:Disabling daily seasonality. Run prophet with daily_seasonality=True to override this.\n",
            "INFO:fbprophet:Disabling weekly seasonality. Run prophet with weekly_seasonality=True to override this.\n",
            "INFO:fbprophet:Disabling daily seasonality. Run prophet with daily_seasonality=True to override this.\n",
            "INFO:fbprophet:Disabling weekly seasonality. Run prophet with weekly_seasonality=True to override this.\n",
            "INFO:fbprophet:Disabling daily seasonality. Run prophet with daily_seasonality=True to override this.\n",
            "INFO:fbprophet:Disabling weekly seasonality. Run prophet with weekly_seasonality=True to override this.\n",
            "INFO:fbprophet:Disabling daily seasonality. Run prophet with daily_seasonality=True to override this.\n",
            "INFO:fbprophet:Disabling weekly seasonality. Run prophet with weekly_seasonality=True to override this.\n",
            "INFO:fbprophet:Disabling daily seasonality. Run prophet with daily_seasonality=True to override this.\n",
            "INFO:fbprophet:Disabling weekly seasonality. Run prophet with weekly_seasonality=True to override this.\n",
            "INFO:fbprophet:Disabling daily seasonality. Run prophet with daily_seasonality=True to override this.\n",
            "INFO:fbprophet:Disabling weekly seasonality. Run prophet with weekly_seasonality=True to override this.\n",
            "INFO:fbprophet:Disabling daily seasonality. Run prophet with daily_seasonality=True to override this.\n",
            "INFO:fbprophet:Disabling weekly seasonality. Run prophet with weekly_seasonality=True to override this.\n",
            "INFO:fbprophet:Disabling daily seasonality. Run prophet with daily_seasonality=True to override this.\n",
            "INFO:fbprophet:Disabling weekly seasonality. Run prophet with weekly_seasonality=True to override this.\n",
            "INFO:fbprophet:Disabling daily seasonality. Run prophet with daily_seasonality=True to override this.\n",
            "INFO:fbprophet:Disabling weekly seasonality. Run prophet with weekly_seasonality=True to override this.\n",
            "INFO:fbprophet:Disabling daily seasonality. Run prophet with daily_seasonality=True to override this.\n",
            "INFO:fbprophet:Disabling weekly seasonality. Run prophet with weekly_seasonality=True to override this.\n",
            "INFO:fbprophet:Disabling daily seasonality. Run prophet with daily_seasonality=True to override this.\n",
            "INFO:fbprophet:Disabling weekly seasonality. Run prophet with weekly_seasonality=True to override this.\n",
            "INFO:fbprophet:Disabling daily seasonality. Run prophet with daily_seasonality=True to override this.\n",
            "INFO:fbprophet:Disabling weekly seasonality. Run prophet with weekly_seasonality=True to override this.\n",
            "INFO:fbprophet:Disabling daily seasonality. Run prophet with daily_seasonality=True to override this.\n",
            "INFO:fbprophet:Disabling weekly seasonality. Run prophet with weekly_seasonality=True to override this.\n",
            "INFO:fbprophet:Disabling daily seasonality. Run prophet with daily_seasonality=True to override this.\n",
            "INFO:fbprophet:Disabling weekly seasonality. Run prophet with weekly_seasonality=True to override this.\n",
            "INFO:fbprophet:Disabling daily seasonality. Run prophet with daily_seasonality=True to override this.\n"
          ],
          "name": "stderr"
        }
      ]
    },
    {
      "cell_type": "code",
      "metadata": {
        "id": "_XVvIFo2BQPG"
      },
      "source": [
        "stores = stores_data.merge(features_data, on ='Store' , how = 'left')\n",
        "final_data_train = train_data.merge(stores, on = ['Store', 'Date', 'IsHoliday'], how = 'left')"
      ],
      "execution_count": 7,
      "outputs": []
    },
    {
      "cell_type": "code",
      "metadata": {
        "id": "vDlc_lbaU75k"
      },
      "source": [
        "stores = stores_data.merge(features_data, on ='Store' , how = 'left')\n",
        "final_data_test = test_data.merge(stores, on = ['Store', 'Date', 'IsHoliday'], how = 'left')"
      ],
      "execution_count": 8,
      "outputs": []
    },
    {
      "cell_type": "code",
      "metadata": {
        "colab": {
          "base_uri": "https://localhost:8080/"
        },
        "id": "ltR8f-7gU75k",
        "outputId": "d9acf812-5ef8-489a-e482-7c7173538334"
      },
      "source": [
        "print(final_data_train.shape)\n",
        "print(final_data_test.shape)"
      ],
      "execution_count": 9,
      "outputs": [
        {
          "output_type": "stream",
          "text": [
            "(421570, 16)\n",
            "(115064, 15)\n"
          ],
          "name": "stdout"
        }
      ]
    },
    {
      "cell_type": "code",
      "metadata": {
        "colab": {
          "base_uri": "https://localhost:8080/",
          "height": 204
        },
        "id": "bmn5JUhIeYvZ",
        "outputId": "16a9af3e-360f-4a3c-9a6a-cd71ca420425"
      },
      "source": [
        "def monthly_sales(data):\n",
        "    monthly_data = data.copy()\n",
        "    monthly_data.Date = monthly_data.Date.apply(lambda x: str(x)[:-3])\n",
        "    monthly_data = monthly_data.groupby('Date')['Weekly_Sales'].sum().reset_index()\n",
        "    monthly_data.Date = pd.to_datetime(monthly_data.Date)\n",
        "    return monthly_data\n",
        "monthly_df = monthly_sales(final_data_train)\n",
        "monthly_df.head()"
      ],
      "execution_count": 10,
      "outputs": [
        {
          "output_type": "execute_result",
          "data": {
            "text/html": [
              "<div>\n",
              "<style scoped>\n",
              "    .dataframe tbody tr th:only-of-type {\n",
              "        vertical-align: middle;\n",
              "    }\n",
              "\n",
              "    .dataframe tbody tr th {\n",
              "        vertical-align: top;\n",
              "    }\n",
              "\n",
              "    .dataframe thead th {\n",
              "        text-align: right;\n",
              "    }\n",
              "</style>\n",
              "<table border=\"1\" class=\"dataframe\">\n",
              "  <thead>\n",
              "    <tr style=\"text-align: right;\">\n",
              "      <th></th>\n",
              "      <th>Date</th>\n",
              "      <th>Weekly_Sales</th>\n",
              "    </tr>\n",
              "  </thead>\n",
              "  <tbody>\n",
              "    <tr>\n",
              "      <th>0</th>\n",
              "      <td>2010-02-01</td>\n",
              "      <td>1.903330e+08</td>\n",
              "    </tr>\n",
              "    <tr>\n",
              "      <th>1</th>\n",
              "      <td>2010-03-01</td>\n",
              "      <td>1.819198e+08</td>\n",
              "    </tr>\n",
              "    <tr>\n",
              "      <th>2</th>\n",
              "      <td>2010-04-01</td>\n",
              "      <td>2.314124e+08</td>\n",
              "    </tr>\n",
              "    <tr>\n",
              "      <th>3</th>\n",
              "      <td>2010-05-01</td>\n",
              "      <td>1.867109e+08</td>\n",
              "    </tr>\n",
              "    <tr>\n",
              "      <th>4</th>\n",
              "      <td>2010-06-01</td>\n",
              "      <td>1.922462e+08</td>\n",
              "    </tr>\n",
              "  </tbody>\n",
              "</table>\n",
              "</div>"
            ],
            "text/plain": [
              "        Date  Weekly_Sales\n",
              "0 2010-02-01  1.903330e+08\n",
              "1 2010-03-01  1.819198e+08\n",
              "2 2010-04-01  2.314124e+08\n",
              "3 2010-05-01  1.867109e+08\n",
              "4 2010-06-01  1.922462e+08"
            ]
          },
          "metadata": {},
          "execution_count": 10
        }
      ]
    },
    {
      "cell_type": "code",
      "metadata": {
        "id": "f1v86CsieYva"
      },
      "source": [
        "def sales_duration(data):\n",
        "    data.Date = pd.to_datetime(data.Date)\n",
        "    number_of_days = data.Date.max() - data.Date.min()\n",
        "    number_of_years = number_of_days.days / 365\n",
        "    print(number_of_days.days, 'days')\n",
        "    print(number_of_years, 'years')"
      ],
      "execution_count": 11,
      "outputs": []
    },
    {
      "cell_type": "code",
      "metadata": {
        "colab": {
          "base_uri": "https://localhost:8080/"
        },
        "id": "mXAMG8rfeYva",
        "outputId": "ef0d185e-c268-456c-fd80-5e04b365e300"
      },
      "source": [
        "# Duration of  train dataset\n",
        "sales_duration(final_data_train)"
      ],
      "execution_count": 12,
      "outputs": [
        {
          "output_type": "stream",
          "text": [
            "994 days\n",
            "2.723287671232877 years\n"
          ],
          "name": "stdout"
        }
      ]
    },
    {
      "cell_type": "code",
      "metadata": {
        "colab": {
          "base_uri": "https://localhost:8080/"
        },
        "id": "vOWkC4-heYvb",
        "outputId": "2eac35a2-8226-4297-e874-6573c7c06c8a"
      },
      "source": [
        "# Duration of  test dataset\n",
        "sales_duration(final_data_test)"
      ],
      "execution_count": 13,
      "outputs": [
        {
          "output_type": "stream",
          "text": [
            "266 days\n",
            "0.7287671232876712 years\n"
          ],
          "name": "stdout"
        }
      ]
    },
    {
      "cell_type": "code",
      "metadata": {
        "colab": {
          "base_uri": "https://localhost:8080/"
        },
        "id": "4GtJaBPeeYvc",
        "outputId": "173f2770-e86e-4d9b-bc8f-b67935582792"
      },
      "source": [
        "# Average monthly sales\n",
        "avg_monthly_sales = monthly_df.Weekly_Sales.mean()\n",
        "print(f\"Overall average monthly sales: {avg_monthly_sales}\")\n",
        "\n",
        "# Last 12 months (this will be the forecasted sales)\n",
        "avg_monthly_sales_12month = monthly_df.Weekly_Sales[-12:].mean()\n",
        "print(f\"Last 12 months average monthly sales: {avg_monthly_sales_12month}\")"
      ],
      "execution_count": 14,
      "outputs": [
        {
          "output_type": "stream",
          "text": [
            "Overall average monthly sales: 204158151.12454498\n",
            "Last 12 months average monthly sales: 208197776.39166617\n"
          ],
          "name": "stdout"
        }
      ]
    },
    {
      "cell_type": "code",
      "metadata": {
        "id": "ub6aZxfRU75m"
      },
      "source": [
        "def markdown_imputation(final_data):    \n",
        "    final_data.loc[final_data.MarkDown1.isnull() ,'MarkDown1']= 0\n",
        "    final_data.loc[final_data.MarkDown2.isnull() ,'MarkDown2']= 0\n",
        "    final_data.loc[final_data.MarkDown3.isnull() ,'MarkDown3']= 0\n",
        "    final_data.loc[final_data.MarkDown4.isnull() ,'MarkDown4']= 0\n",
        "    final_data.loc[final_data.MarkDown5.isnull() ,'MarkDown5']= 0\n",
        "    return final_data"
      ],
      "execution_count": 15,
      "outputs": []
    },
    {
      "cell_type": "code",
      "metadata": {
        "id": "d2o5RrFcU75n"
      },
      "source": [
        "def weekly_sales_imputation(final_data):    \n",
        "    final_data[final_data.Weekly_Sales<0]\n",
        "    print('before removing negative weekly sales ,shape of final dataframe is :',final_data.shape)\n",
        "    final_data=final_data[final_data.Weekly_Sales>=0]\n",
        "    print('after removing negative weekly sales ,shape of final dataframe is :',final_data.shape)\n",
        "    return final_data"
      ],
      "execution_count": 16,
      "outputs": []
    },
    {
      "cell_type": "code",
      "metadata": {
        "id": "mdEqEtGBU75o"
      },
      "source": [
        "def train_temp_bins(final_data):\n",
        "    temp_100_110_f=final_data[((final_data.Temperature>100) & (final_data.Temperature< 110))].Weekly_Sales.sum()\n",
        "    temp_90_100_f=final_data[((final_data.Temperature>90) & (final_data.Temperature< 100))].Weekly_Sales.sum()\n",
        "    temp_80_90_f=final_data[((final_data.Temperature>80) & (final_data.Temperature< 90))].Weekly_Sales.sum()\n",
        "    temp_70_80_f=final_data[((final_data.Temperature>70) & (final_data.Temperature< 80))].Weekly_Sales.sum()\n",
        "    temp_60_70_f=final_data[((final_data.Temperature>60) & (final_data.Temperature< 70))].Weekly_Sales.sum()\n",
        "    temp_50_60_f=final_data[((final_data.Temperature>50) & (final_data.Temperature< 60))].Weekly_Sales.sum()\n",
        "    temp_40_50_f=final_data[((final_data.Temperature>40) & (final_data.Temperature< 50))].Weekly_Sales.sum()\n",
        "    temp_30_40_f=final_data[((final_data.Temperature>30) & (final_data.Temperature< 40))].Weekly_Sales.sum() \n",
        "    temp_0_30_f=final_data[((final_data.Temperature>0) & (final_data.Temperature< 30))].Weekly_Sales.sum()   \n",
        "    temp_less_than_0_f=final_data[((final_data.Temperature>-10) & (final_data.Temperature< 0))].Weekly_Sales.sum()\n",
        "    final_data['Temp_bins'] = np.nan\n",
        "    final_data.loc[((final_data.Temperature>-10) & (final_data.Temperature<0)) ,'Temp_bins']= temp_less_than_0_f\n",
        "    final_data.loc[((final_data.Temperature>0) & (final_data.Temperature< 30)) ,'Temp_bins']= temp_0_30_f\n",
        "    final_data.loc[((final_data.Temperature>30) & (final_data.Temperature< 40)) ,'Temp_bins']= temp_30_40_f\n",
        "    final_data.loc[((final_data.Temperature>40) & (final_data.Temperature< 50)) ,'Temp_bins']= temp_40_50_f\n",
        "    final_data.loc[((final_data.Temperature>50) & (final_data.Temperature< 60)) ,'Temp_bins']= temp_50_60_f\n",
        "    final_data.loc[((final_data.Temperature>60) & (final_data.Temperature< 70)) ,'Temp_bins']= temp_60_70_f\n",
        "    final_data.loc[((final_data.Temperature>70) & (final_data.Temperature< 80)) ,'Temp_bins']= temp_70_80_f\n",
        "    final_data.loc[((final_data.Temperature>80) & (final_data.Temperature< 90)) ,'Temp_bins']= temp_80_90_f\n",
        "    final_data.loc[((final_data.Temperature>90) & (final_data.Temperature< 100)),'Temp_bins']= temp_90_100_f\n",
        "    final_data.loc[((final_data.Temperature>100) & (final_data.Temperature< 110)),'Temp_bins']= temp_100_110_f\n",
        "    final_data.loc[final_data.Temp_bins.isnull() ,'Temp_bins']= 0\n",
        "    list1=[temp_less_than_0_f,temp_0_30_f,temp_30_40_f,temp_40_50_f,temp_50_60_f,temp_60_70_f,temp_70_80_f,temp_80_90_f,temp_90_100_f,temp_100_110_f]\n",
        "    return final_data,list1"
      ],
      "execution_count": 17,
      "outputs": []
    },
    {
      "cell_type": "code",
      "metadata": {
        "id": "WD2XX0WTU75p"
      },
      "source": [
        "def test_temp_bins(final_data,list1):\n",
        "    final_data['Temp_bins'] = np.nan\n",
        "    final_data.loc[((final_data.Temperature>-10) & (final_data.Temperature<0)) ,'Temp_bins']= list1[0]\n",
        "    final_data.loc[((final_data.Temperature>0) & (final_data.Temperature< 30)) ,'Temp_bins']= list1[1]\n",
        "    final_data.loc[((final_data.Temperature>30) & (final_data.Temperature< 40)) ,'Temp_bins']= list1[2]\n",
        "    final_data.loc[((final_data.Temperature>40) & (final_data.Temperature< 50)) ,'Temp_bins']= list1[3]\n",
        "    final_data.loc[((final_data.Temperature>50) & (final_data.Temperature< 60)) ,'Temp_bins']= list1[4]\n",
        "    final_data.loc[((final_data.Temperature>60) & (final_data.Temperature< 70)) ,'Temp_bins']= list1[5]\n",
        "    final_data.loc[((final_data.Temperature>70) & (final_data.Temperature< 80)) ,'Temp_bins']= list1[6]\n",
        "    final_data.loc[((final_data.Temperature>80) & (final_data.Temperature< 90)) ,'Temp_bins']= list1[7]\n",
        "    final_data.loc[((final_data.Temperature>90) & (final_data.Temperature< 100)),'Temp_bins']= list1[8]\n",
        "    final_data.loc[((final_data.Temperature>100) & (final_data.Temperature< 110)),'Temp_bins']= list1[9]\n",
        "    final_data.loc[final_data.Temp_bins.isnull() ,'Temp_bins']= 0\n",
        "    return final_data"
      ],
      "execution_count": 18,
      "outputs": []
    },
    {
      "cell_type": "code",
      "metadata": {
        "id": "Dtmw5kOVU75q"
      },
      "source": [
        "def split(final_data):\n",
        "    final_data['Date'] = pd.to_datetime(final_data['Date'])\n",
        "    final_data['Year'] = final_data['Date'].dt.year\n",
        "    final_data['Month']= final_data['Date'].dt.month\n",
        "    final_data['Week'] = final_data['Date'].dt.week\n",
        "    final_data['Day']  = final_data['Date'].dt.day\n",
        "    return final_data"
      ],
      "execution_count": 19,
      "outputs": []
    },
    {
      "cell_type": "code",
      "metadata": {
        "id": "DCwDkJ4aU75q"
      },
      "source": [
        "import datetime\n",
        "def days_from_christmas_for_train(x):\n",
        "    if x['Year']== 2010 :\n",
        "        diff=datetime.datetime(2010, 12, 31)-x['Date']\n",
        "        return diff.days\n",
        "    if ((x['Year']== 2011) and (x['Date']< datetime.datetime(2011, 12, 30))):\n",
        "        diff=datetime.datetime(2011, 12, 30)-x['Date']\n",
        "        return diff.days\n",
        "    else:\n",
        "        return 0"
      ],
      "execution_count": 20,
      "outputs": []
    },
    {
      "cell_type": "code",
      "metadata": {
        "id": "1v9VRGNiU75r"
      },
      "source": [
        "import datetime\n",
        "def days_from_christmas_for_test(x):\n",
        "    if x['Year']== 2010 :\n",
        "        diff=datetime.datetime(2010, 12, 31)-x['Date']\n",
        "        return diff.days\n",
        "    if ((x['Year']== 2011) and (x['Date']< datetime.datetime(2011, 12, 30))):\n",
        "        diff=datetime.datetime(2011, 12, 30)-x['Date']\n",
        "        return diff.days\n",
        "    if ((x['Year']== 2012) and (x['Date']< datetime.datetime(2012, 12, 28))):\n",
        "        diff=datetime.datetime(2012, 12, 28)-x['Date']\n",
        "        return diff.days\n",
        "    if ((x['Year']== 2013) and (x['Date']< datetime.datetime(2013, 12, 27))):\n",
        "        diff=datetime.datetime(2013, 12, 27)-x['Date']\n",
        "        return diff.days\n",
        "    else:\n",
        "        return 0   "
      ],
      "execution_count": 21,
      "outputs": []
    },
    {
      "cell_type": "code",
      "metadata": {
        "id": "mjboWUgbU75r"
      },
      "source": [
        "def days_from_thanksgiving_for_train(x):\n",
        "    if ((x['Year']== 2010) and (x['Date']< datetime.datetime(2010, 11, 26))):\n",
        "        diff=datetime.datetime(2010, 11, 26)-x['Date']\n",
        "        return diff.days\n",
        "    if ((x['Year']== 2011) and (x['Date']< datetime.datetime(2011, 11, 25))):\n",
        "        diff=datetime.datetime(2011, 11, 25)-x['Date']\n",
        "        return diff.days\n",
        "    else:\n",
        "        return 0"
      ],
      "execution_count": 22,
      "outputs": []
    },
    {
      "cell_type": "code",
      "metadata": {
        "id": "r3fMuJBBU75s"
      },
      "source": [
        "def days_from_thanksgiving_for_test(x):\n",
        "    if ((x['Year']== 2010) and (x['Date']< datetime.datetime(2010, 11, 26))):\n",
        "        diff=datetime.datetime(2010, 11, 26)-x['Date']\n",
        "        return diff.days\n",
        "    if ((x['Year']== 2011) and (x['Date']< datetime.datetime(2011, 11, 25))):\n",
        "        diff=datetime.datetime(2011, 11, 25)-x['Date']\n",
        "        return diff.days\n",
        "    if ((x['Year']== 2012) and (x['Date']< datetime.datetime(2012, 11, 23))):\n",
        "        diff=datetime.datetime(2012, 11, 23)-x['Date']\n",
        "        return diff.days\n",
        "    if ((x['Year']== 2013) and (x['Date']< datetime.datetime(2013, 11, 29))):\n",
        "        diff=datetime.datetime(2013, 11, 29)-x['Date']\n",
        "        return diff.days\n",
        "    else:\n",
        "        return 0"
      ],
      "execution_count": 23,
      "outputs": []
    },
    {
      "cell_type": "code",
      "metadata": {
        "id": "Kkc4NJXPU75s"
      },
      "source": [
        "def holiday_type(x):\n",
        "    if   (x['IsHoliday']== 1) & (x['Week']==6):\n",
        "        return 1 #SuperBowl\n",
        "    elif (x['IsHoliday']== 1) & (x['Week']==36):\n",
        "        return 2 #LaborDay\n",
        "    elif (x['IsHoliday']== 1) & (x['Week']==47):\n",
        "        return 3 #Thanksgiving\n",
        "    elif (x['IsHoliday']== 1) & (x['Week']==52):\n",
        "        return 4 #Christmas\n",
        "    else:\n",
        "        return 0"
      ],
      "execution_count": 24,
      "outputs": []
    },
    {
      "cell_type": "code",
      "metadata": {
        "id": "TLeR92ktU75s"
      },
      "source": [
        "def holiday_label(final_data):\n",
        "    final_data.loc[(final_data.IsHoliday==True) ,'IsHoliday']= 1\n",
        "    final_data.loc[(final_data.IsHoliday==False) ,'IsHoliday']= 0\n",
        "    return final_data"
      ],
      "execution_count": 25,
      "outputs": []
    },
    {
      "cell_type": "code",
      "metadata": {
        "id": "Cg1KHvurU75t"
      },
      "source": [
        "def type_label(final_data):\n",
        "    final_data.loc[(final_data.Type=='A') ,'Type']= 1\n",
        "    final_data.loc[(final_data.Type=='B') ,'Type']= 2\n",
        "    final_data.loc[(final_data.Type=='C') ,'Type']= 3\n",
        "    return final_data"
      ],
      "execution_count": 26,
      "outputs": []
    },
    {
      "cell_type": "code",
      "metadata": {
        "id": "BWXHPsBGeYvh"
      },
      "source": [
        "import holidays\n",
        "def holiday_in_week_train(final_data):\n",
        "    dates =[]\n",
        "    for ptr in holidays.US(years = 2010).items():\n",
        "        dates.append(ptr[0])\n",
        "    for ptr in holidays.US(years = 2011).items():\n",
        "        dates.append(ptr[0])\n",
        "    for ptr in holidays.US(years = 2012).items():\n",
        "        dates.append(ptr[0])\n",
        "    holiday_count=[] \n",
        "    for index, row in final_data.iterrows():\n",
        "        dat = final_data['Date'][index]\n",
        "        dt=[]\n",
        "        for i in range(0,5):\n",
        "            dt.append(dat - datetime.timedelta(days = i))\n",
        "        for i in range(1,3):\n",
        "            dt.append(dat + datetime.timedelta(days = i))\n",
        "        count = 0\n",
        "        for date in dates:\n",
        "            if date in dt:\n",
        "                count +=1\n",
        "        holiday_count.append(count)\n",
        "    return holiday_count  "
      ],
      "execution_count": 27,
      "outputs": []
    },
    {
      "cell_type": "code",
      "metadata": {
        "id": "oBtrhm_feYvh"
      },
      "source": [
        "import holidays\n",
        "def holiday_in_week_test(final_data):\n",
        "    dates =[]\n",
        "    for ptr in holidays.US(years = 2010).items():\n",
        "        dates.append(ptr[0])\n",
        "    for ptr in holidays.US(years = 2011).items():\n",
        "        dates.append(ptr[0])\n",
        "    for ptr in holidays.US(years = 2012).items():\n",
        "        dates.append(ptr[0])\n",
        "    for ptr in holidays.US(years = 2013).items():\n",
        "        dates.append(ptr[0])\n",
        "    holiday_count=[] \n",
        "    for index, row in final_data.iterrows():\n",
        "        dat = final_data['Date'][index]\n",
        "        dt=[]\n",
        "        for i in range(0,5):\n",
        "            dt.append(dat - datetime.timedelta(days = i))\n",
        "        for i in range(1,3):\n",
        "            dt.append(dat + datetime.timedelta(days = i))\n",
        "        count = 0\n",
        "        for date in dates:\n",
        "            if date in dt:\n",
        "                count +=1\n",
        "        holiday_count.append(count)\n",
        "    return holiday_count  "
      ],
      "execution_count": 28,
      "outputs": []
    },
    {
      "cell_type": "markdown",
      "metadata": {
        "id": "E_KgE7H1U75x"
      },
      "source": [
        "## Training data preprocessing and generating new features"
      ]
    },
    {
      "cell_type": "code",
      "metadata": {
        "colab": {
          "base_uri": "https://localhost:8080/"
        },
        "id": "gWigZYz6U75x",
        "outputId": "66aed248-6384-4cef-be88-2173593255d0"
      },
      "source": [
        "final_data_train=markdown_imputation(final_data_train)\n",
        "final_data_train=weekly_sales_imputation(final_data_train)\n",
        "final_data_train,list1=train_temp_bins(final_data_train)\n",
        "final_data_train=split(final_data_train)\n",
        "final_data_train['diff_from_christmas'] = final_data_train.apply(days_from_christmas_for_train, axis=1)  \n",
        "final_data_train['days_from_thanksgiving'] = final_data_train.apply(days_from_thanksgiving_for_train, axis=1)  \n",
        "final_data_train['IsHoliday_bins'] = final_data_train.apply(holiday_type, axis=1)\n",
        "final_data_train=holiday_label(final_data_train)\n",
        "final_data_train=type_label(final_data_train)\n",
        "final_data_train['Holidays'] = np.array(holiday_in_week_train(final_data_train))"
      ],
      "execution_count": 29,
      "outputs": [
        {
          "output_type": "stream",
          "text": [
            "before removing negative weekly sales ,shape of final dataframe is : (421570, 16)\n",
            "after removing negative weekly sales ,shape of final dataframe is : (420285, 16)\n"
          ],
          "name": "stdout"
        }
      ]
    },
    {
      "cell_type": "markdown",
      "metadata": {
        "id": "Pqu4DqSeU75x"
      },
      "source": [
        "## Test data preprocessing and generating new features"
      ]
    },
    {
      "cell_type": "code",
      "metadata": {
        "id": "HbkgNdO9U75y"
      },
      "source": [
        "final_data_test=markdown_imputation(final_data_test)\n",
        "final_data_test=test_temp_bins(final_data_test,list1)\n",
        "final_data_test=split(final_data_test)\n",
        "final_data_test['diff_from_christmas'] = final_data_test.apply(days_from_christmas_for_test, axis=1) \n",
        "final_data_test['days_from_thanksgiving'] = final_data_test.apply(days_from_thanksgiving_for_test, axis=1)   \n",
        "final_data_test['IsHoliday_bins'] = final_data_test.apply(holiday_type, axis=1)\n",
        "final_data_test=holiday_label(final_data_test)\n",
        "final_data_test=type_label(final_data_test)\n",
        "final_data_test['Holidays'] = np.array(holiday_in_week_test(final_data_test))"
      ],
      "execution_count": 30,
      "outputs": []
    },
    {
      "cell_type": "code",
      "metadata": {
        "id": "XplwD7FpU75y"
      },
      "source": [
        "final_data_train=final_data_train.reset_index(drop=True)\n",
        "final_data_test=final_data_test.reset_index(drop=True)"
      ],
      "execution_count": 31,
      "outputs": []
    },
    {
      "cell_type": "markdown",
      "metadata": {
        "id": "E0O2n3t-cSLk"
      },
      "source": [
        "## feature importance"
      ]
    },
    {
      "cell_type": "code",
      "metadata": {
        "colab": {
          "base_uri": "https://localhost:8080/",
          "height": 349
        },
        "id": "JAPhEg-heYvj",
        "outputId": "001b0a93-c2f5-4a60-9657-cfeb4158502c"
      },
      "source": [
        "# random forest for feature importance on a regression problem\n",
        "from sklearn.datasets import make_regression\n",
        "from sklearn.ensemble import RandomForestRegressor\n",
        "from matplotlib import pyplot\n",
        "final_data_train['Date']=pd.to_numeric(pd.to_datetime(final_data_train['Date']))\n",
        "y = final_data_train['Weekly_Sales']\n",
        "X = final_data_train.drop(['Weekly_Sales'], axis=1)\n",
        "X_train,X_test,y_train,y_test = train_test_split(X,y,test_size=0.3)\n",
        "model = RandomForestRegressor()\n",
        "model.fit(X_train, y_train)\n",
        "importance = model.feature_importances_\n",
        "\n",
        "indices=np.argsort(importance)[::-1]\n",
        "indices=indices[:10]\n",
        "feature_names=X_train.columns\n",
        "name=[feature_names[i] for i in indices]\n",
        "print(len(name))\n",
        "plt.bar(range(10),importance[indices])\n",
        "plt.xticks(range(10),name)\n",
        "plt.xticks(rotation='vertical')\n",
        "plt.show()"
      ],
      "execution_count": null,
      "outputs": [
        {
          "output_type": "stream",
          "text": [
            "10\n"
          ],
          "name": "stdout"
        },
        {
          "output_type": "display_data",
          "data": {
            "image/png": "[encoded data removed]",
            "text/plain": [
              "<Figure size 432x288 with 1 Axes>"
            ]
          },
          "metadata": {
            "needs_background": "light"
          }
        }
      ]
    },
    {
      "cell_type": "code",
      "metadata": {
        "id": "kvqGwbTleDMB"
      },
      "source": [
        "def WMAE(dataset, real, predicted):\n",
        "  \n",
        "    weights = dataset.IsHoliday.apply(lambda x: 5 if x else 1)\n",
        "    return np.round(np.sum(weights*abs(real-predicted))/(np.sum(weights)), 2)"
      ],
      "execution_count": 32,
      "outputs": []
    },
    {
      "cell_type": "markdown",
      "metadata": {
        "id": "Mhft0vu1mfy6"
      },
      "source": [
        "## 1.Linear regression"
      ]
    },
    {
      "cell_type": "code",
      "metadata": {
        "id": "lKOjsjRseYvl"
      },
      "source": [
        "final_data_train1=final_data_train.copy()"
      ],
      "execution_count": 33,
      "outputs": []
    },
    {
      "cell_type": "code",
      "metadata": {
        "colab": {
          "base_uri": "https://localhost:8080/"
        },
        "id": "QW4UoOW-eYvl",
        "outputId": "67f7108d-0d11-4a07-8292-4fb42f5d1739"
      },
      "source": [
        "y = final_data_train['Weekly_Sales']\n",
        "X = final_data_train.drop(['Weekly_Sales'], axis=1) \n",
        "X_train, X_test, y_train, y_test = train_test_split(X, y, test_size=0.3) # Train:Test = 70:30 splitting.\n",
        "# Final shapes.\n",
        "print('Train shape:', X_train.shape, y_train.shape)\n",
        "print('Test shape: ', X_test.shape, y_test.shape)"
      ],
      "execution_count": 34,
      "outputs": [
        {
          "output_type": "stream",
          "text": [
            "Train shape: (294199, 24) (294199,)\n",
            "Test shape:  (126086, 24) (126086,)\n"
          ],
          "name": "stdout"
        }
      ]
    },
    {
      "cell_type": "code",
      "metadata": {
        "colab": {
          "base_uri": "https://localhost:8080/"
        },
        "id": "wCjtWYmUeYvl",
        "outputId": "79fb9398-0456-4561-f51d-9a8c83d194c9"
      },
      "source": [
        "final_data_train1=final_data_train1[['Store','Dept','IsHoliday','IsHoliday_bins','Size','Week','Type','Temperature','CPI','Unemployment','Weekly_Sales','Day']]\n",
        "y = final_data_train1['Weekly_Sales']\n",
        "X = final_data_train1.drop(['Weekly_Sales'], axis=1) \n",
        "X_train1, X_test1, y_train1, y_test1 = train_test_split(X, y, test_size=0.3) # Train:Test = 70:30 splitting.\n",
        "# Final shapes.\n",
        "print('Train shape:', X_train1.shape, y_train1.shape)\n",
        "print('Test shape: ', X_test1.shape, y_test1.shape)"
      ],
      "execution_count": 35,
      "outputs": [
        {
          "output_type": "stream",
          "text": [
            "Train shape: (294199, 11) (294199,)\n",
            "Test shape:  (126086, 11) (126086,)\n"
          ],
          "name": "stdout"
        }
      ]
    },
    {
      "cell_type": "code",
      "metadata": {
        "colab": {
          "base_uri": "https://localhost:8080/"
        },
        "id": "l7y6KVQteYvm",
        "outputId": "fb28ccc1-e92d-4486-efdf-41679e395828"
      },
      "source": [
        "model_lr = LinearRegression(fit_intercept=True,normalize=True).fit(X_train1,y_train1)\n",
        "y_pred_train_lr1 = model_lr.predict(X_train1)\n",
        "y_pred_test_lr1 = model_lr.predict(X_test1)\n",
        "print(\"Train WMAE-\", WMAE(X_train1, y_train1, y_pred_train_lr1))\n",
        "print(\"Test WMAE-\", WMAE(X_test1, y_test1, y_pred_test_lr1))"
      ],
      "execution_count": null,
      "outputs": [
        {
          "output_type": "stream",
          "text": [
            "Train WMAE- 14789.38\n",
            "Test WMAE- 14863.66\n"
          ],
          "name": "stdout"
        }
      ]
    },
    {
      "cell_type": "markdown",
      "metadata": {
        "id": "0UOnvuuNeYvm"
      },
      "source": [
        "### After domain knowledge feature selection"
      ]
    },
    {
      "cell_type": "code",
      "metadata": {
        "colab": {
          "base_uri": "https://localhost:8080/"
        },
        "id": "hf1zMh8ceYvm",
        "outputId": "241e0fb8-0969-4f40-9c48-66d5f86368f2"
      },
      "source": [
        "final_data_train=final_data_train[['Store','Dept','IsHoliday','Size','Week','Type','Year','Weekly_Sales','Holidays','Day']]\n",
        "y = final_data_train['Weekly_Sales']\n",
        "X = final_data_train.drop(['Weekly_Sales'], axis=1) \n",
        "X_train, X_test, y_train, y_test = train_test_split(X, y, test_size=0.3) # Train:Test = 70:30 splitting.\n",
        "# Final shapes.\n",
        "print('Train shape:', X_train.shape, y_train.shape)\n",
        "print('Test shape: ', X_test.shape, y_test.shape)"
      ],
      "execution_count": null,
      "outputs": [
        {
          "output_type": "stream",
          "text": [
            "Train shape: (294199, 9) (294199,)\n",
            "Test shape:  (126086, 9) (126086,)\n"
          ],
          "name": "stdout"
        }
      ]
    },
    {
      "cell_type": "code",
      "metadata": {
        "colab": {
          "base_uri": "https://localhost:8080/"
        },
        "id": "J1LdNjNqeYvn",
        "outputId": "57e99682-82c1-46f9-b0b3-27699f3c4d98"
      },
      "source": [
        "model_lr = LinearRegression(fit_intercept=True,normalize=True).fit(X_train,y_train)\n",
        "y_pred_train_lr = model_lr.predict(X_train)\n",
        "y_pred_test_lr = model_lr.predict(X_test)\n",
        "print(\"Train WMAE-\", WMAE(X_train, y_train, y_pred_train_lr))\n",
        "print(\"Test WMAE-\", WMAE(X_test, y_test, y_pred_test_lr))"
      ],
      "execution_count": null,
      "outputs": [
        {
          "output_type": "stream",
          "text": [
            "Train WMAE- 14852.8\n",
            "Test WMAE- 14837.2\n"
          ],
          "name": "stdout"
        }
      ]
    },
    {
      "cell_type": "markdown",
      "metadata": {
        "id": "EOxfS0O_mkdk"
      },
      "source": [
        "## 2.Random forest"
      ]
    },
    {
      "cell_type": "code",
      "metadata": {
        "id": "RoKmof-YfKBB"
      },
      "source": [
        "n_estimators = [140,150,160]\n",
        "max_depth = [25,27]\n",
        "param_grid = {'n_estimators': n_estimators,\n",
        "               'max_depth': max_depth}\n",
        "\n",
        "rf_Model = RandomForestRegressor(n_jobs = -1)\n",
        "\n",
        "from sklearn.model_selection import RandomizedSearchCV\n",
        "rf_RandomGrid = RandomizedSearchCV(estimator = rf_Model, param_distributions = param_grid, cv = 3, verbose=2, n_jobs = -1)\n",
        "rf_RandomGrid.fit(X_train, y_train)"
      ],
      "execution_count": null,
      "outputs": []
    },
    {
      "cell_type": "code",
      "metadata": {
        "id": "oIKZ-zGRfLwt"
      },
      "source": [
        "rf_RandomGrid.best_params_"
      ],
      "execution_count": null,
      "outputs": []
    },
    {
      "cell_type": "code",
      "metadata": {
        "id": "EvI0ommHfOul"
      },
      "source": [
        "from sklearn.externals import joblib\n",
        "rf_Model = RandomForestRegressor(n_estimators= 140,max_depth=27,n_jobs = -1)\n",
        "rf_Model.fit(X_train,y_train)\n",
        "# y_pred_train_lr = rf_Model.predict(X_train)\n",
        "# y_pred_test_lr = rf_Model.predict(X_test)\n",
        "# print(\"Train WMAE-\", WMAE(X_train, y_train, y_pred_train_lr))\n",
        "# print(\"Test WMAE-\", WMAE(X_test, y_test, y_pred_test_lr))\n",
        "joblib.dump(rf_Model, 'model.pkl')"
      ],
      "execution_count": null,
      "outputs": []
    },
    {
      "cell_type": "code",
      "metadata": {
        "colab": {
          "base_uri": "https://localhost:8080/"
        },
        "id": "_nWaekaBeYvo",
        "outputId": "bc868ebe-e79e-46e8-a80d-30bd649cc6ee"
      },
      "source": [
        "rf_Model = RandomForestRegressor(n_estimators= 140,max_depth=27,n_jobs = -1)\n",
        "rf_Model.fit(X_train1,y_train1)\n",
        "y_pred_train_lr1 = rf_Model.predict(X_train1)\n",
        "y_pred_test_lr1 = rf_Model.predict(X_test1)\n",
        "print(\"Train WMAE-\", WMAE(X_train1, y_train1, y_pred_train_lr1))\n",
        "print(\"Test WMAE-\", WMAE(X_test1, y_test1, y_pred_test_lr1))"
      ],
      "execution_count": null,
      "outputs": [
        {
          "output_type": "stream",
          "text": [
            "Train WMAE- 575.3\n",
            "Test WMAE- 1528.24\n"
          ],
          "name": "stdout"
        }
      ]
    },
    {
      "cell_type": "markdown",
      "metadata": {
        "id": "d5HwPdeEeYvo"
      },
      "source": [
        "### Domain features"
      ]
    },
    {
      "cell_type": "code",
      "metadata": {
        "colab": {
          "base_uri": "https://localhost:8080/"
        },
        "id": "aku3rWPVgdoP",
        "outputId": "18fcaced-5ce2-49e8-d382-4cbe554a9456"
      },
      "source": [
        "rf_Model = RandomForestRegressor(n_estimators= 140,max_depth=27,n_jobs = -1)\n",
        "rf_Model.fit(X_train,y_train)\n",
        "y_pred_train_lr = rf_Model.predict(X_train)\n",
        "y_pred_test_lr = rf_Model.predict(X_test)\n",
        "print(\"Train WMAE-\", WMAE(X_train, y_train, y_pred_train_lr))\n",
        "print(\"Test WMAE-\", WMAE(X_test, y_test, y_pred_test_lr))"
      ],
      "execution_count": null,
      "outputs": [
        {
          "output_type": "stream",
          "text": [
            "Train WMAE- 547.67\n",
            "Test WMAE- 1455.41\n"
          ],
          "name": "stdout"
        }
      ]
    },
    {
      "cell_type": "markdown",
      "metadata": {
        "id": "PmUpyeW9msr2"
      },
      "source": [
        "## 3.kNN"
      ]
    },
    {
      "cell_type": "code",
      "metadata": {
        "colab": {
          "base_uri": "https://localhost:8080/"
        },
        "id": "Lt_ieWp23Hj_",
        "outputId": "661d5eb6-f51b-4cb8-9a6f-e9bc876f1850"
      },
      "source": [
        "# final_data_train['Date'] = pd.to_numeric(pd.to_datetime(final_data_train['Date']))\n",
        "neigh = KNeighborsRegressor(n_jobs=-1)\n",
        "parameters = {'n_neighbors':list(range(1,26,3))}\n",
        "clf = RandomizedSearchCV(neigh, parameters, cv=4)\n",
        "clf.fit(X_train, y_train)"
      ],
      "execution_count": null,
      "outputs": [
        {
          "output_type": "execute_result",
          "data": {
            "text/plain": [
              "RandomizedSearchCV(cv=4, error_score=nan,\n",
              "                   estimator=KNeighborsRegressor(algorithm='auto', leaf_size=30,\n",
              "                                                 metric='minkowski',\n",
              "                                                 metric_params=None, n_jobs=-1,\n",
              "                                                 n_neighbors=5, p=2,\n",
              "                                                 weights='uniform'),\n",
              "                   iid='deprecated', n_iter=10, n_jobs=None,\n",
              "                   param_distributions={'n_neighbors': [1, 4, 7, 10, 13, 16, 19,\n",
              "                                                        22, 25]},\n",
              "                   pre_dispatch='2*n_jobs', random_state=None, refit=True,\n",
              "                   return_train_score=False, scoring=None, verbose=0)"
            ]
          },
          "metadata": {},
          "execution_count": 46
        }
      ]
    },
    {
      "cell_type": "code",
      "metadata": {
        "colab": {
          "base_uri": "https://localhost:8080/"
        },
        "id": "K5DZktn_3Jl-",
        "outputId": "a8fe567c-8075-4e7f-99c1-2b5c55a7767d"
      },
      "source": [
        "clf.best_estimator_"
      ],
      "execution_count": null,
      "outputs": [
        {
          "output_type": "execute_result",
          "data": {
            "text/plain": [
              "KNeighborsRegressor(algorithm='auto', leaf_size=30, metric='minkowski',\n",
              "                    metric_params=None, n_jobs=-1, n_neighbors=13, p=2,\n",
              "                    weights='uniform')"
            ]
          },
          "metadata": {},
          "execution_count": 47
        }
      ]
    },
    {
      "cell_type": "code",
      "metadata": {
        "colab": {
          "base_uri": "https://localhost:8080/"
        },
        "id": "OWT6HZZaeYvq",
        "outputId": "c96cbaa4-92e0-4a56-dc77-2495a514c983"
      },
      "source": [
        "neigh = KNeighborsRegressor(n_neighbors=4, n_jobs=-1)\n",
        "neigh.fit(X_train1, y_train1)\n",
        "y_tr_knn1 = neigh.predict(X_train1)\n",
        "y_test_knn1 = neigh.predict(X_test1)\n",
        "print(\"Train WMAE-\", WMAE(X_train1, y_train1, y_tr_knn1))\n",
        "print(\"Test WMAE-\", WMAE(X_test1, y_test1, y_test_knn1))"
      ],
      "execution_count": null,
      "outputs": [
        {
          "output_type": "stream",
          "text": [
            "Train WMAE- 9427.78\n",
            "Test WMAE- 12169.99\n"
          ],
          "name": "stdout"
        }
      ]
    },
    {
      "cell_type": "markdown",
      "metadata": {
        "id": "PKskDKiDeYvq"
      },
      "source": [
        "### Domain feaures"
      ]
    },
    {
      "cell_type": "code",
      "metadata": {
        "colab": {
          "base_uri": "https://localhost:8080/"
        },
        "id": "TURETowe3Fd-",
        "outputId": "d512ab6b-8025-42f0-dea2-38f742b08bd3"
      },
      "source": [
        "neigh = KNeighborsRegressor(n_neighbors=4, n_jobs=-1)\n",
        "neigh.fit(X_train, y_train)\n",
        "y_tr_knn = neigh.predict(X_train)\n",
        "y_test_knn = neigh.predict(X_test)\n",
        "print(\"Train WMAE-\", WMAE(X_train, y_train, y_tr_knn))\n",
        "print(\"Test WMAE-\", WMAE(X_test, y_test, y_test_knn))"
      ],
      "execution_count": null,
      "outputs": [
        {
          "output_type": "stream",
          "text": [
            "Train WMAE- 7959.46\n",
            "Test WMAE- 10515.05\n"
          ],
          "name": "stdout"
        }
      ]
    },
    {
      "cell_type": "markdown",
      "metadata": {
        "id": "sYvlxT9YnGH6"
      },
      "source": [
        "## 4.LightGBM regressor"
      ]
    },
    {
      "cell_type": "code",
      "metadata": {
        "colab": {
          "base_uri": "https://localhost:8080/"
        },
        "id": "mB7h5eHieYvr",
        "outputId": "9465822d-a343-4c3b-8ae5-ec89b4928ee4"
      },
      "source": [
        "from lightgbm import LGBMClassifier, LGBMRegressor\n",
        "X_train1['Type']=X_train1['Type'].astype('int')\n",
        "X_test1['Type']=X_test1['Type'].astype('int')\n",
        "X_train1['IsHoliday']=X_train1['IsHoliday'].astype('bool')\n",
        "X_test1['IsHoliday']=X_test1['IsHoliday'].astype('bool')\n",
        "\n",
        "\n",
        "lgb_Model = LGBMRegressor(n_estimators= 5000,max_depth=50,n_jobs = -1)\n",
        "lgb_Model.fit(X_train1,y_train1)\n",
        "y_pred_train_lr1 = lgb_Model.predict(X_train1)\n",
        "y_pred_test_lr1 = lgb_Model.predict(X_test1)\n",
        "print(\"Train WMAE-\", WMAE(X_train1, y_train1, y_pred_train_lr1))\n",
        "print(\"Test WMAE-\", WMAE(X_test1, y_test1, y_pred_test_lr1))"
      ],
      "execution_count": null,
      "outputs": [
        {
          "output_type": "stream",
          "text": [
            "Train WMAE- 1199.96\n",
            "Test WMAE- 1537.84\n"
          ],
          "name": "stdout"
        }
      ]
    },
    {
      "cell_type": "code",
      "metadata": {
        "colab": {
          "base_uri": "https://localhost:8080/"
        },
        "id": "GgynDTLO3CKv",
        "outputId": "a0dca8e4-e296-42e2-fc60-49ebfc64d1d8"
      },
      "source": [
        "from lightgbm import LGBMClassifier, LGBMRegressor\n",
        "X_train['IsHoliday']=X_train['IsHoliday'].astype('bool')\n",
        "X_train['Type']=X_train['Type'].astype('int')\n",
        "X_test['IsHoliday']=X_test['IsHoliday'].astype('bool')\n",
        "X_test['Type']=X_test['Type'].astype('int')\n",
        "\n",
        "lgb_Model = LGBMRegressor(n_estimators= 5000,max_depth=50,n_jobs = -1)\n",
        "lgb_Model.fit(X_train,y_train)\n",
        "y_pred_train_lr = lgb_Model.predict(X_train)\n",
        "y_pred_test_lr = lgb_Model.predict(X_test)\n",
        "print(\"Train WMAE-\", WMAE(X_train, y_train, y_pred_train_lr))\n",
        "print(\"Test WMAE-\", WMAE(X_test, y_test, y_pred_test_lr))"
      ],
      "execution_count": null,
      "outputs": [
        {
          "output_type": "stream",
          "text": [
            "Train WMAE- 1215.31\n",
            "Test WMAE- 1478.31\n"
          ],
          "name": "stdout"
        }
      ]
    },
    {
      "cell_type": "markdown",
      "metadata": {
        "id": "eYWbFNgX2XuR"
      },
      "source": [
        "## 6.CatBoostRegressor"
      ]
    },
    {
      "cell_type": "code",
      "metadata": {
        "id": "R-qAehTsP9ih",
        "colab": {
          "base_uri": "https://localhost:8080/"
        },
        "outputId": "10b658d2-24ad-4b99-ccac-db47275d12b3"
      },
      "source": [
        "pip install catboost"
      ],
      "execution_count": null,
      "outputs": [
        {
          "output_type": "stream",
          "text": [
            "Collecting catboost\n",
            "  Downloading catboost-0.26.1-cp37-none-manylinux1_x86_64.whl (67.4 MB)\n",
            "\u001b[K     |████████████████████████████████| 67.4 MB 70 kB/s \n",
            "\u001b[?25hRequirement already satisfied: scipy in /usr/local/lib/python3.7/dist-packages (from catboost) (1.4.1)\n",
            "Requirement already satisfied: graphviz in /usr/local/lib/python3.7/dist-packages (from catboost) (0.10.1)\n",
            "Requirement already satisfied: six in /usr/local/lib/python3.7/dist-packages (from catboost) (1.15.0)\n",
            "Requirement already satisfied: pandas>=0.24.0 in /usr/local/lib/python3.7/dist-packages (from catboost) (1.1.5)\n",
            "Requirement already satisfied: matplotlib in /usr/local/lib/python3.7/dist-packages (from catboost) (3.2.2)\n",
            "Requirement already satisfied: plotly in /usr/local/lib/python3.7/dist-packages (from catboost) (4.4.1)\n",
            "Requirement already satisfied: numpy>=1.16.0 in /usr/local/lib/python3.7/dist-packages (from catboost) (1.19.5)\n",
            "Requirement already satisfied: python-dateutil>=2.7.3 in /usr/local/lib/python3.7/dist-packages (from pandas>=0.24.0->catboost) (2.8.2)\n",
            "Requirement already satisfied: pytz>=2017.2 in /usr/local/lib/python3.7/dist-packages (from pandas>=0.24.0->catboost) (2018.9)\n",
            "Requirement already satisfied: cycler>=0.10 in /usr/local/lib/python3.7/dist-packages (from matplotlib->catboost) (0.10.0)\n",
            "Requirement already satisfied: pyparsing!=2.0.4,!=2.1.2,!=2.1.6,>=2.0.1 in /usr/local/lib/python3.7/dist-packages (from matplotlib->catboost) (2.4.7)\n",
            "Requirement already satisfied: kiwisolver>=1.0.1 in /usr/local/lib/python3.7/dist-packages (from matplotlib->catboost) (1.3.1)\n",
            "Requirement already satisfied: retrying>=1.3.3 in /usr/local/lib/python3.7/dist-packages (from plotly->catboost) (1.3.3)\n",
            "Installing collected packages: catboost\n",
            "Successfully installed catboost-0.26.1\n"
          ],
          "name": "stdout"
        }
      ]
    },
    {
      "cell_type": "code",
      "metadata": {
        "colab": {
          "base_uri": "https://localhost:8080/"
        },
        "id": "P9coSL51eYvs",
        "outputId": "6ca9368b-e47e-4ae5-833a-9f763a3c0c51"
      },
      "source": [
        "from catboost import CatBoostClassifier, CatBoostRegressor\n",
        "X_train1['Type']=X_train1['Type'].astype('int')\n",
        "X_test1['Type']=X_test1['Type'].astype('int')\n",
        "X_train1['IsHoliday']=X_train1['IsHoliday'].astype('bool')\n",
        "X_test1['IsHoliday']=X_test1['IsHoliday'].astype('bool')\n",
        "\n",
        "\n",
        "lgb_Model = CatBoostRegressor(learning_rate=.9,iterations=200,depth=16,l2_leaf_reg=.2)\n",
        "lgb_Model.fit(X_train1,y_train1)\n",
        "y_pred_train_lr1 = lgb_Model.predict(X_train1)\n",
        "y_pred_test_lr1 = lgb_Model.predict(X_test1)\n",
        "print(\"Train WMAE-\", WMAE(X_train1, y_train1, y_pred_train_lr1))\n",
        "print(\"Test WMAE-\", WMAE(X_test1, y_test1, y_pred_test_lr1))"
      ],
      "execution_count": null,
      "outputs": [
        {
          "output_type": "stream",
          "text": [
            "0:\tlearn: 13682.4046128\ttotal: 2.58s\tremaining: 8m 34s\n",
            "1:\tlearn: 10678.8676380\ttotal: 3.59s\tremaining: 5m 55s\n",
            "2:\tlearn: 9695.5174161\ttotal: 4.57s\tremaining: 5m\n",
            "3:\tlearn: 8882.7327743\ttotal: 5.57s\tremaining: 4m 32s\n",
            "4:\tlearn: 8317.9426616\ttotal: 6.57s\tremaining: 4m 16s\n",
            "5:\tlearn: 7325.9985409\ttotal: 7.57s\tremaining: 4m 4s\n",
            "6:\tlearn: 6820.2711211\ttotal: 8.56s\tremaining: 3m 56s\n",
            "7:\tlearn: 6380.4930823\ttotal: 9.56s\tremaining: 3m 49s\n",
            "8:\tlearn: 6103.3792891\ttotal: 10.6s\tremaining: 3m 44s\n",
            "9:\tlearn: 5867.0981643\ttotal: 11.5s\tremaining: 3m 39s\n",
            "10:\tlearn: 5647.3774870\ttotal: 12.6s\tremaining: 3m 35s\n",
            "11:\tlearn: 5495.5497222\ttotal: 13.6s\tremaining: 3m 32s\n",
            "12:\tlearn: 5363.0255688\ttotal: 14.5s\tremaining: 3m 29s\n",
            "13:\tlearn: 5185.4831166\ttotal: 15.5s\tremaining: 3m 26s\n",
            "14:\tlearn: 5033.0594053\ttotal: 16.5s\tremaining: 3m 23s\n",
            "15:\tlearn: 4863.4076662\ttotal: 17.5s\tremaining: 3m 21s\n",
            "16:\tlearn: 4717.5382308\ttotal: 18.5s\tremaining: 3m 19s\n",
            "17:\tlearn: 4529.7837385\ttotal: 19.5s\tremaining: 3m 16s\n",
            "18:\tlearn: 4443.4258657\ttotal: 20.5s\tremaining: 3m 15s\n",
            "19:\tlearn: 4348.2406391\ttotal: 21.5s\tremaining: 3m 13s\n",
            "20:\tlearn: 4269.7942521\ttotal: 22.5s\tremaining: 3m 11s\n",
            "21:\tlearn: 4175.2967993\ttotal: 23.5s\tremaining: 3m 9s\n",
            "22:\tlearn: 4093.9592602\ttotal: 24.7s\tremaining: 3m 10s\n"
          ],
          "name": "stdout"
        }
      ]
    },
    {
      "cell_type": "code",
      "metadata": {
        "id": "W6tGbHk02_4_"
      },
      "source": [
        "from catboost import CatBoostClassifier, CatBoostRegressor\n",
        "X_train['IsHoliday']=X_train['IsHoliday'].astype('bool')\n",
        "X_train['Type']=X_train['Type'].astype('int')\n",
        "X_test['IsHoliday']=X_test['IsHoliday'].astype('bool')\n",
        "X_test['Type']=X_test['Type'].astype('int')\n",
        "\n",
        "lgb_Model = CatBoostRegressor(learning_rate=.9,iterations=200,depth=16,l2_leaf_reg=.2)\n",
        "lgb_Model.fit(X_train,y_train)\n",
        "y_pred_train_lr = lgb_Model.predict(X_train)\n",
        "y_pred_test_lr = lgb_Model.predict(X_test)\n",
        "print(\"Train WMAE-\", WMAE(X_train, y_train, y_pred_train_lr))\n",
        "print(\"Test WMAE-\", WMAE(X_test, y_test, y_pred_test_lr))"
      ],
      "execution_count": null,
      "outputs": []
    },
    {
      "cell_type": "markdown",
      "metadata": {
        "id": "JOBQLkN286Dz"
      },
      "source": [
        "## Xgboostregressor"
      ]
    },
    {
      "cell_type": "code",
      "metadata": {
        "id": "dl9cpBGUeYvt",
        "colab": {
          "base_uri": "https://localhost:8080/"
        },
        "outputId": "74ab91e4-9b8a-4697-c73d-96e0b38ff828"
      },
      "source": [
        "X_train1['Type']=X_train1['Type'].astype('int')\n",
        "X_test1['Type']=X_test1['Type'].astype('int')\n",
        "X_train1['IsHoliday']=X_train1['IsHoliday'].astype('bool')\n",
        "X_test1['IsHoliday']=X_test1['IsHoliday'].astype('bool')\n",
        "\n",
        "lgb_Model = XGBRegressor(max_depth=27, n_estimators=100)\n",
        "lgb_Model.fit(X_train1,y_train1)\n",
        "y_pred_train_lr1 = lgb_Model.predict(X_train1)\n",
        "y_pred_test_lr1 = lgb_Model.predict(X_test1)\n",
        "print(\"Train WMAE-\", WMAE(X_train1, y_train1, y_pred_train_lr1))\n",
        "print(\"Test WMAE-\", WMAE(X_test1, y_test1, y_pred_test_lr1))"
      ],
      "execution_count": 36,
      "outputs": [
        {
          "output_type": "stream",
          "text": [
            "[16:45:16] WARNING: /workspace/src/objective/regression_obj.cu:152: reg:linear is now deprecated in favor of reg:squarederror.\n",
            "Train WMAE- 11.66\n",
            "Test WMAE- 1364.46\n"
          ],
          "name": "stdout"
        }
      ]
    },
    {
      "cell_type": "code",
      "metadata": {
        "id": "0_ocljyg29Mw",
        "colab": {
          "base_uri": "https://localhost:8080/"
        },
        "outputId": "9a531db7-6ce3-4f07-89f6-cd59c1ff78c7"
      },
      "source": [
        "from xgboost import XGBClassifier, XGBRegressor\n",
        "X_train['IsHoliday']=X_train['IsHoliday'].astype('bool')\n",
        "X_train['Type']=X_train['Type'].astype('int')\n",
        "X_test['IsHoliday']=X_test['IsHoliday'].astype('bool')\n",
        "X_test['Type']=X_test['Type'].astype('int')\n",
        "X_train['Date']=pd.to_numeric(pd.to_datetime(X_train['Date']))\n",
        "X_test['Date']=pd.to_numeric(pd.to_datetime(X_test['Date']))\n",
        "\n",
        "lgb_Model = XGBRegressor(max_depth=27, n_estimators=100)\n",
        "lgb_Model.fit(X_train,y_train)\n",
        "y_pred_train_lr = lgb_Model.predict(X_train)\n",
        "y_pred_test_lr = lgb_Model.predict(X_test)\n",
        "print(\"Train WMAE-\", WMAE(X_train, y_train, y_pred_train_lr))\n",
        "print(\"Test WMAE-\", WMAE(X_test, y_test, y_pred_test_lr))"
      ],
      "execution_count": 38,
      "outputs": [
        {
          "output_type": "stream",
          "text": [
            "[16:55:24] WARNING: /workspace/src/objective/regression_obj.cu:152: reg:linear is now deprecated in favor of reg:squarederror.\n",
            "Train WMAE- 10.56\n",
            "Test WMAE- 1437.82\n"
          ],
          "name": "stdout"
        }
      ]
    },
    {
      "cell_type": "code",
      "metadata": {
        "colab": {
          "base_uri": "https://localhost:8080/"
        },
        "id": "VUbeDHPuBwZq",
        "outputId": "095327fe-00d8-4bfa-ba3b-40d2b4e131fe"
      },
      "source": [
        "from sklearn.linear_model import RidgeCV\n",
        "from sklearn.svm import LinearSVR\n",
        "X_train['IsHoliday']=X_train['IsHoliday'].astype('bool')\n",
        "X_train['Type']=X_train['Type'].astype('int')\n",
        "X_test['IsHoliday']=X_test['IsHoliday'].astype('bool')\n",
        "X_test['Type']=X_test['Type'].astype('int')\n",
        "\n",
        "estimators = [\n",
        "     ('lr', RidgeCV(normalize = True)),\n",
        "     ('svr', LinearSVR(random_state=42)),\n",
        "     ('gb', LGBMRegressor(n_estimators=8000, max_depth=25)),\n",
        "     ('rf', RandomForestRegressor(n_estimators=100))]\n",
        "reg = StackingRegressor(\n",
        "     estimators=estimators,\n",
        "     final_estimator=RandomForestRegressor())\n",
        "reg.fit(X_train,y_train)\n",
        "y_pred_train_lr = reg.predict(X_train)\n",
        "y_pred_test_lr = reg.predict(X_test)\n",
        "print(\"Train WMAE-\", WMAE(X_train, y_train, y_pred_train_lr))\n",
        "print(\"Test WMAE-\", WMAE(X_test, y_test, y_pred_test_lr))"
      ],
      "execution_count": null,
      "outputs": [
        {
          "name": "stdout",
          "output_type": "stream",
          "text": [
            "Train WMAE- 1760.12\n",
            "Test WMAE- 1994.69\n"
          ]
        }
      ]
    },
    {
      "cell_type": "markdown",
      "metadata": {
        "id": "W8mvWg9UmWcc"
      },
      "source": [
        "## Training on whole train data and predicting on actual test data"
      ]
    },
    {
      "cell_type": "code",
      "metadata": {
        "id": "X2vTV-iBU75y"
      },
      "source": [
        "from sklearn.ensemble import RandomForestClassifier\n",
        "final_data_train['Date']=pd.to_numeric(pd.to_datetime(final_data_train['Date']))\n",
        "final_data_test['Date'] = pd.to_numeric(pd.to_datetime(final_data_test['Date']))\n",
        "y = final_data_train['Weekly_Sales']\n",
        "X = final_data_train.drop(['Weekly_Sales'], axis=1)\n",
        "rf_Model = RandomForestRegressor(n_estimators= 140,max_depth=27,n_jobs = -1)\n",
        "rf_Model.fit(X, y)"
      ],
      "execution_count": null,
      "outputs": []
    },
    {
      "cell_type": "code",
      "metadata": {
        "id": "hCnlwnvLU75y"
      },
      "source": [
        "y_hat= rf_Model.predict(final_data_test)"
      ],
      "execution_count": null,
      "outputs": []
    },
    {
      "cell_type": "code",
      "metadata": {
        "id": "Zio2q2QCU75z"
      },
      "source": [
        "sample_submission=pd.read_csv('sampleSubmission.csv')\n",
        "sample_submission['Weekly_Sales']=list(y_hat)\n",
        "sample_submission.to_csv('submission.csv',index=False)"
      ],
      "execution_count": null,
      "outputs": []
    }
  ]
}